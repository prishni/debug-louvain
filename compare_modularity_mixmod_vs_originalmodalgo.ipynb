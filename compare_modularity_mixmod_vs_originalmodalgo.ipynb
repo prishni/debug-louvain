{
 "cells": [
  {
   "cell_type": "code",
   "execution_count": 1,
   "metadata": {},
   "outputs": [
    {
     "name": "stdout",
     "output_type": "stream",
     "text": [
      "/home/user2/Downloads/sem2/mtp_prish/Louvain_mixmod\n"
     ]
    }
   ],
   "source": [
    "import os\n",
    "import sys\n",
    "import matplotlib.pyplot as plt\n",
    "print(os.getcwd())"
   ]
  },
  {
   "cell_type": "code",
   "execution_count": 2,
   "metadata": {
    "collapsed": true
   },
   "outputs": [],
   "source": [
    "p = []\n",
    "alpha = []\n",
    "labels = []\n",
    "def getpval(line):\n",
    "    filename = line[0]\n",
    "    values = filename.split('_')\n",
    "    return values[2]\n",
    "\n",
    "def getlabel(line):\n",
    "    filename = line[0]\n",
    "    values = filename.split('_')\n",
    "    return str(values[1])+'_'+str(values[2])\n"
   ]
  },
  {
   "cell_type": "code",
   "execution_count": 8,
   "metadata": {
    "collapsed": true
   },
   "outputs": [],
   "source": [
    "resultsfiledir = './resultsmixmod/modularity_comparisions/'\n",
    "resultsfilename = 'modComparisionMixModLouvain_wt_correctedImplementation'\n",
    "titlestring = \"MixMod_wt_newmodularity\"\n",
    "resultsmixmod = open(resultsfiledir+resultsfilename)\n",
    "gt_mod = []\n",
    "mixmod_mod = []\n",
    "resultsmixmod.readline()\n",
    "for line in resultsmixmod:\n",
    "    line = line.split()\n",
    "    gt_mod.append(float(line[1]))\n",
    "    mixmod_mod.append(float(line[2]))\n",
    "    labels.append(getlabel(line))\n",
    "\n",
    "x = range(0, len(gt_mod))\n",
    "plt.figure(figsize = (15,15))\n",
    "plt.plot(x, gt_mod, label = 'Ground Truth')\n",
    "plt.plot(mixmod_mod, label = 'MixMod')\n",
    "plt.legend(loc = 'lower right')\n",
    "plt.title(titlestring)\n",
    "plt.ylim([0.4, 0.7])\n",
    "plt.xticks(x, labels, rotation='vertical')\n",
    "plt.savefig(resultsfiledir+resultsfilename+'.png')\n",
    "#plt.show()"
   ]
  },
  {
   "cell_type": "code",
   "execution_count": 2,
   "metadata": {},
   "outputs": [],
   "source": [
    "resultsfiledir = './resultsDualModLouvain/'\n",
    "resultsfilename = 'modComparisionDualModLouvain_correctmodimplementation'\n",
    "titlestring = \"DualMod\"\n",
    "resultsmixmod = open(resultsfiledir+resultsfilename)\n",
    "gt_mod = []\n",
    "dual_mod = []\n",
    "resultsmixmod.readline()\n",
    "for line in resultsmixmod:\n",
    "    line = line.split()\n",
    "    gt_mod.append(float(line[1]))\n",
    "    dual_mod.append(float(line[2]))\n",
    "\n",
    "plt.figure(figsize = (10,10))\n",
    "plt.plot(gt_mod, label = 'Ground Truth')\n",
    "plt.plot(dual_mod, label = 'DualModLouvain')\n",
    "plt.legend(loc = 'lower right')\n",
    "plt.title(titlestring)\n",
    "#plt.show()\n",
    "plt.savefig(resultsfiledir+resultsfilename+'.png')"
   ]
  },
  {
   "cell_type": "code",
   "execution_count": 31,
   "metadata": {
    "collapsed": true
   },
   "outputs": [],
   "source": [
    "resultsfiledir = './resultsmixmod/modularity_comparisions/'\n",
    "resultsfilename = 'modComparisionMixModLouvain_nomultilayerinstage1'\n",
    "titlestring = \"MixMod_noMultiLayer\"\n",
    "resultsmixmod = open(resultsfiledir+resultsfilename)\n",
    "gt_mod = []\n",
    "mixmod_mod = []\n",
    "dual_mod = []\n",
    "resultsmixmod.readline()\n",
    "for line in resultsmixmod:\n",
    "    line = line.split()\n",
    "    gt_mod.append(float(line[1]))\n",
    "    mixmod_mod.append(float(line[2]))\n",
    "\n",
    "plt.figure(figsize = (10,10))\n",
    "plt.plot(gt_mod, label = 'Ground Truth')\n",
    "plt.plot(mixmod_mod, label = 'MixMod')\n",
    "plt.legend(loc = 'lower right')\n",
    "plt.title(titlestring)\n",
    "plt.ylim([0.3, 0.7])\n",
    "plt.savefig(resultsfiledir+titlestring+'.png')\n",
    "#plt.show()"
   ]
  },
  {
   "cell_type": "code",
   "execution_count": null,
   "metadata": {
    "collapsed": true
   },
   "outputs": [],
   "source": []
  }
 ],
 "metadata": {
  "kernelspec": {
   "display_name": "Python 3",
   "language": "python",
   "name": "python3"
  },
  "language_info": {
   "codemirror_mode": {
    "name": "ipython",
    "version": 2
   },
   "file_extension": ".py",
   "mimetype": "text/x-python",
   "name": "python",
   "nbconvert_exporter": "python",
   "pygments_lexer": "ipython2",
   "version": "2.7.12"
  }
 },
 "nbformat": 4,
 "nbformat_minor": 2
}
