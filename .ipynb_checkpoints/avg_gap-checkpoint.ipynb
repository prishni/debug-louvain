{
 "cells": [
  {
   "cell_type": "code",
   "execution_count": 9,
   "metadata": {},
   "outputs": [
    {
     "name": "stdout",
     "output_type": "stream",
     "text": [
      "/home/user/Downloads/sem2/mtp_prish/Louvain_mixmod\n"
     ]
    }
   ],
   "source": [
    "import os\n",
    "import sys\n",
    "import matplotlib.pyplot as plt\n",
    "import numpy as np\n",
    "print(os.getcwd())"
   ]
  },
  {
   "cell_type": "code",
   "execution_count": 2,
   "metadata": {
    "collapsed": true
   },
   "outputs": [],
   "source": [
    "p = []\n",
    "alpha = []\n",
    "labels = []\n",
    "def getpval(line):\n",
    "    filename = line[0]\n",
    "    values = filename.split('_')\n",
    "    return values[2]\n",
    "\n",
    "def getlabel(line):\n",
    "    filename = line[0]\n",
    "    values = filename.split('_')\n",
    "    return str(values[1])+'_'+str(values[2])\n"
   ]
  },
  {
   "cell_type": "code",
   "execution_count": 4,
   "metadata": {},
   "outputs": [],
   "source": [
    "def report_avg_gap(filename):\n",
    "    resultsmixmod = open(filename)\n",
    "    diff_sum=0.0\n",
    "    norm = 0\n",
    "    \n",
    "    gt_mod = []\n",
    "    dt_mod = []\n",
    "    resultsmixmod.readline()\n",
    "    for line in resultsmixmod:\n",
    "        line = line.split()\n",
    "        gt_mod.append(float(line[1]))\n",
    "        dt_mod.append(float(line[2]))\n",
    "    gt_mod = np.array(gt_mod)\n",
    "    dt_mod = np.array(dt_mod)\n",
    "    gt_mean = np.mean(gt_mod)\n",
    "    dt_mean = np.mean(dt_mod)\n",
    "    gt_sd = np.sd(gt_mod)\n",
    "    dt_sd = np.sd(dt_mod)\n",
    "    \n",
    "    for i in range(0, len(gt_mod)):\n",
    "        gt_mod[i] = (gt_mod[i]*1.0-gt_mean)*1.0/gt_sd\n",
    "        dt_mod[i] = (dt_mod[i]*1.0-dt_mean)*1.0/dt_sd\n",
    "\n",
    "    for i in range(0, len(gt_mod)):\n",
    "        cur_diff = gt_mod[i] - dt_mod[i]\n",
    "        if cur_diff >0:\n",
    "            diff_sum = diff_sum + cur_diff\n",
    "            \n",
    "    return (diff_sum*1.0)/len(gt_mod)\n",
    "    "
   ]
  },
  {
   "cell_type": "code",
   "execution_count": 7,
   "metadata": {},
   "outputs": [
    {
     "name": "stdout",
     "output_type": "stream",
     "text": [
      "0.011852958730485714\n"
     ]
    }
   ],
   "source": [
    "resultsfiledir = './resultsmixmod/'\n",
    "resultsfilename = 'modComparisionMixModLouvain_wt_correctedImplementation'\n",
    "avg_gap = report_avg_gap(resultsfiledir+resultsfilename)\n",
    "print(avg_gap)"
   ]
  },
  {
   "cell_type": "code",
   "execution_count": 8,
   "metadata": {},
   "outputs": [
    {
     "name": "stdout",
     "output_type": "stream",
     "text": [
      "0.02710694634772858\n"
     ]
    }
   ],
   "source": [
    "resultsfiledir = './resultsmixmod/'\n",
    "resultsfilename = 'modComparisionMixModLouvain_wt_newmodularity'\n",
    "avg_gap1 = report_avg_gap(resultsfiledir+resultsfilename)\n",
    "print(avg_gap1)"
   ]
  },
  {
   "cell_type": "code",
   "execution_count": null,
   "metadata": {
    "collapsed": true
   },
   "outputs": [],
   "source": []
  },
  {
   "cell_type": "code",
   "execution_count": null,
   "metadata": {
    "collapsed": true
   },
   "outputs": [],
   "source": []
  },
  {
   "cell_type": "code",
   "execution_count": null,
   "metadata": {
    "collapsed": true
   },
   "outputs": [],
   "source": []
  }
 ],
 "metadata": {
  "kernelspec": {
   "display_name": "Python 3",
   "language": "python",
   "name": "python3"
  },
  "language_info": {
   "codemirror_mode": {
    "name": "ipython",
    "version": 3
   },
   "file_extension": ".py",
   "mimetype": "text/x-python",
   "name": "python",
   "nbconvert_exporter": "python",
   "pygments_lexer": "ipython3",
   "version": "3.5.2"
  }
 },
 "nbformat": 4,
 "nbformat_minor": 2
}
