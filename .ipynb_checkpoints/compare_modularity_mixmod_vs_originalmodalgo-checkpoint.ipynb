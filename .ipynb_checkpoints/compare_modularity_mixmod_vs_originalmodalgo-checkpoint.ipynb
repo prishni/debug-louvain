{
 "cells": [
  {
   "cell_type": "code",
   "execution_count": 6,
   "metadata": {},
   "outputs": [
    {
     "name": "stdout",
     "output_type": "stream",
     "text": [
      "/home/user/Downloads/sem2/mtp_prish/Louvain_mixmod\n"
     ]
    }
   ],
   "source": [
    "import os\n",
    "import sys\n",
    "import matplotlib.pyplot as plt\n",
    "print(os.getcwd())"
   ]
  },
  {
   "cell_type": "code",
   "execution_count": 7,
   "metadata": {
    "collapsed": true
   },
   "outputs": [],
   "source": []
  },
  {
   "cell_type": "code",
   "execution_count": 30,
   "metadata": {},
   "outputs": [],
   "source": [
    "resultsfiledir = './resultsmixmod/'\n",
    "resultsfilename = 'modComparisionMixModLouvain'\n",
    "titlestring = \"MixMod\"\n",
    "resultsmixmod = open(resultsfiledir+resultsfilename)\n",
    "gt_mod = []\n",
    "mixmod_mod = []\n",
    "dual_mod = []\n",
    "resultsmixmod.readline()\n",
    "for line in resultsmixmod:\n",
    "    line = line.split()\n",
    "    gt_mod.append(float(line[1]))\n",
    "    mixmod_mod.append(float(line[2]))\n",
    "\n",
    "plt.figure(figsize = (10,10))\n",
    "plt.plot(gt_mod, label = 'Ground Truth')\n",
    "plt.plot(mixmod_mod, label = 'MixMod')\n",
    "plt.legend(loc = 'lower right')\n",
    "plt.title(titlestring)\n",
    "plt.ylim([0.3, 0.7])\n",
    "plt.savefig(resultsfiledir+titlestring+'.png')\n",
    "#plt.show()"
   ]
  },
  {
   "cell_type": "code",
   "execution_count": 28,
   "metadata": {},
   "outputs": [],
   "source": [
    "resultsfiledir = './resultsDualModLouvain/'\n",
    "resultsfilename = 'modComparisionDualModLouvain'\n",
    "titlestring = \"DualMod\"\n",
    "resultsmixmod = open(resultsfiledir+resultsfilename)\n",
    "gt_mod = []\n",
    "mixmod_mod = []\n",
    "dual_mod = []\n",
    "resultsmixmod.readline()\n",
    "for line in resultsmixmod:\n",
    "    line = line.split()\n",
    "    gt_mod.append(float(line[1]))\n",
    "    mixmod_mod.append(float(line[2]))\n",
    "\n",
    "plt.figure(figsize = (10,10))\n",
    "plt.plot(gt_mod, label = 'Ground Truth')\n",
    "plt.plot(mixmod_mod, label = 'DualModLouvain')\n",
    "plt.legend(loc = 'lower right')\n",
    "plt.title(titlestring)\n",
    "#plt.show()\n",
    "plt.savefig(resultsfiledir+titlestring+'.png')"
   ]
  },
  {
   "cell_type": "code",
   "execution_count": null,
   "metadata": {
    "collapsed": true
   },
   "outputs": [],
   "source": [
    "resultsfiledir = './resultsmixmod/'\n",
    "resultsfilename = 'modComparisionMixModLouvain_nomultilayerinstage1'\n",
    "titlestring = \"MixMod_noMultiLayer\"\n",
    "resultsmixmod = open(resultsfiledir+resultsfilename)\n",
    "gt_mod = []\n",
    "mixmod_mod = []\n",
    "dual_mod = []\n",
    "resultsmixmod.readline()\n",
    "for line in resultsmixmod:\n",
    "    line = line.split()\n",
    "    gt_mod.append(float(line[1]))\n",
    "    mixmod_mod.append(float(line[2]))\n",
    "\n",
    "plt.figure(figsize = (10,10))\n",
    "plt.plot(gt_mod, label = 'Ground Truth')\n",
    "plt.plot(mixmod_mod, label = 'MixMod')\n",
    "plt.legend(loc = 'lower right')\n",
    "plt.title(titlestring)\n",
    "plt.ylim([0.3, 0.7])\n",
    "plt.savefig(resultsfiledir+titlestring+'.png')\n",
    "#plt.show()"
   ]
  },
  {
   "cell_type": "code",
   "execution_count": null,
   "metadata": {
    "collapsed": true
   },
   "outputs": [],
   "source": []
  }
 ],
 "metadata": {
  "kernelspec": {
   "display_name": "Python 3",
   "language": "python",
   "name": "python3"
  },
  "language_info": {
   "codemirror_mode": {
    "name": "ipython",
    "version": 3
   },
   "file_extension": ".py",
   "mimetype": "text/x-python",
   "name": "python",
   "nbconvert_exporter": "python",
   "pygments_lexer": "ipython3",
   "version": "3.5.2"
  }
 },
 "nbformat": 4,
 "nbformat_minor": 2
}
