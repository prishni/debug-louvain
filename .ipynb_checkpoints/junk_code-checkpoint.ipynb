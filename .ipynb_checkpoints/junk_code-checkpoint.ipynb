{
 "cells": [
  {
   "cell_type": "code",
   "execution_count": 1,
   "metadata": {},
   "outputs": [],
   "source": [
    "import os\n",
    "import sys\n",
    "import networkx as nx\n",
    "import pickle\n",
    "from collections import defaultdict\n",
    "import matplotlib.pyplot as plt\n",
    "import community"
   ]
  },
  {
   "cell_type": "code",
   "execution_count": 2,
   "metadata": {},
   "outputs": [
    {
     "name": "stdout",
     "output_type": "stream",
     "text": [
      "/home/user/Downloads/sem2/mtp_prish/Louvain_mixmod\n"
     ]
    }
   ],
   "source": [
    "os.chdir('/home/user/Downloads/sem2/mtp_prish/Louvain_mixmod')\n",
    "print(os.getcwd())"
   ]
  },
  {
   "cell_type": "code",
   "execution_count": 3,
   "metadata": {},
   "outputs": [
    {
     "name": "stdout",
     "output_type": "stream",
     "text": [
      "{1: 590, 2: 590} {1: 107} 0 {1: {66, 34, 164, 58, 6, 135, 168, 15, 148, 117, 180, 181, 26, 187, 189}, 2: {1, 105, 42, 138, 44, 177, 178, 18, 179, 182, 183, 151, 186, 29}, 3: {128, 130, 4, 37, 104, 137, 13, 46, 113, 146, 28, 30}, 4: {160, 3, 196, 9, 170, 139, 169, 47, 176, 49, 175, 150, 22, 152, 185}, 5: {122, 103, 72, 59, 43, 109, 147, 149, 88, 56, 91, 92, 93, 63}, 6: {161, 194, 67, 36, 197, 198, 199, 200, 74, 110, 14, 19, 53, 95, 62, 25, 155, 157, 190, 127}, 7: {97, 98, 99, 100, 162, 195, 167, 136, 10, 174, 114, 61, 55, 119, 153, 90, 27, 125, 94, 57}, 8: {32, 2, 134, 166, 8, 40, 106, 45, 115, 23, 126, 158}, 9: {64, 35, 68, 133, 131, 165, 107, 141, 80, 81, 48, 17, 87, 120, 89, 124}, 10: {132, 102, 71, 73, 11, 12, 108, 140, 16, 145, 84, 21, 54, 123}, 11: {96, 193, 192, 163, 159, 69, 70, 39, 75, 76, 172, 60, 143, 156, 50, 52, 85, 188, 191}, 12: {5, 38, 171, 77, 78, 79, 112, 173, 82, 83, 51, 116, 86, 111, 184, 121, 154}, 13: {65, 33, 7, 41, 20, 24, 31}, 14: {144, 129, 142, 101, 118}}\n"
     ]
    }
   ],
   "source": [
    "filename = \"./nets/network_0.9_1.0_0.05_1.0_0.0\"\n",
    "with open(filename+'_ml_network.pickle', 'rb') as handle:\n",
    "        fnetwork = pickle.load(handle)\n",
    "ml_network, layer, node_l, node_c, top, bot, couple, edge_l, edge_c, mu, commu = fnetwork\n",
    "print(edge_l, edge_c, mu, commu)"
   ]
  },
  {
   "cell_type": "code",
   "execution_count": null,
   "metadata": {
    "collapsed": true
   },
   "outputs": [],
   "source": []
  },
  {
   "cell_type": "code",
   "execution_count": 4,
   "metadata": {
    "collapsed": true
   },
   "outputs": [],
   "source": [
    "#Build a new network\n",
    "g = nx.Graph()\n",
    "g.add_edges_from([[1,2],[2,3],[3,1],[4,5],[1,6],[2,6],[3,6],[1,7],[2,7],[3,7],[8,9],[9,10],[8,10],[6,7]])\n"
   ]
  },
  {
   "cell_type": "code",
   "execution_count": 5,
   "metadata": {
    "collapsed": true
   },
   "outputs": [],
   "source": [
    "layer = defaultdict(set)\n",
    "layer[1] = set([1,2,3,4,5])\n",
    "layer[2] = set([6,7,8,9,10])\n",
    "node_l = defaultdict(set)\n",
    "node_c = defaultdict(set)\n",
    "for i in range(1, 11):\n",
    "    for j in g[i].keys():\n",
    "        if(i in layer[1] and j in layer[1]):\n",
    "            node_l[i].add(j)\n",
    "        elif(i in layer[2] and j in layer[2]):\n",
    "            node_l[i].add(j)\n",
    "        elif(i in layer[1] and j in layer[2]):\n",
    "            node_c[i].add(j)\n",
    "        elif(i in layer[2] and j in layer[1]):\n",
    "            node_c[i].add(j)\n",
    "couple = {1:set([1,2,3,4,5,6,7,8,9,10])}\n",
    "top = {1:1}\n",
    "bot = {1:2}\n",
    "edge_l = {1:4, 2:5}\n",
    "edge_c = {1:6}\n",
    "mu = 0\n",
    "commu = {1:set([1,2,3,6,7]), 2: set([4,5]), 3: set([])}"
   ]
  },
  {
   "cell_type": "code",
   "execution_count": 6,
   "metadata": {
    "collapsed": true
   },
   "outputs": [],
   "source": [
    "outfilename = \"./nets/smallnetwork_ml_network.pickle\"\n",
    "fout = open(outfilename, 'wb')\n",
    "pickle.dump((g, layer, node_l, node_c, top, bot, couple, edge_l, edge_c, mu, commu), fout,protocol = 2)\n",
    "fout.close()"
   ]
  },
  {
   "cell_type": "code",
   "execution_count": 7,
   "metadata": {
    "collapsed": true
   },
   "outputs": [],
   "source": [
    "fin = open(outfilename, 'rb')\n",
    "ml_network, layer, node_l, node_c, top, bot, couple, edge_l, edge_c, mu, commu = pickle.load(fin)"
   ]
  },
  {
   "cell_type": "code",
   "execution_count": 8,
   "metadata": {},
   "outputs": [
    {
     "name": "stdout",
     "output_type": "stream",
     "text": [
      " defaultdict(<class 'set'>, {1: {1, 2, 3, 4, 5}, 2: {8, 9, 10, 6, 7}}) defaultdict(<class 'set'>, {1: {2, 3}, 2: {1, 3}, 3: {1, 2}, 4: {5}, 5: {4}, 6: {7}, 7: {6}, 8: {9, 10}, 9: {8, 10}, 10: {8, 9}}) defaultdict(<class 'set'>, {1: {6, 7}, 2: {6, 7}, 3: {6, 7}, 6: {1, 2, 3}, 7: {1, 2, 3}}) {1: 1} {1: 2} {1: {1, 2, 3, 4, 5, 6, 7, 8, 9, 10}} {1: 4, 2: 5} {1: 6} 0 {1: {1, 2, 3, 6, 7}, 2: {4, 5}, 3: set()}\n"
     ]
    }
   ],
   "source": [
    "print(ml_network, layer, node_l, node_c, top, bot, couple, edge_l, edge_c, mu, commu)"
   ]
  },
  {
   "cell_type": "code",
   "execution_count": 9,
   "metadata": {},
   "outputs": [
    {
     "name": "stdout",
     "output_type": "stream",
     "text": [
      "[(1, 2), (1, 3), (1, 6), (1, 7), (2, 3), (2, 6), (2, 7), (3, 6), (3, 7), (4, 5), (6, 7), (8, 9), (8, 10), (9, 10)]\n"
     ]
    }
   ],
   "source": [
    "print(ml_network.edges())"
   ]
  },
  {
   "cell_type": "code",
   "execution_count": 10,
   "metadata": {},
   "outputs": [
    {
     "name": "stderr",
     "output_type": "stream",
     "text": [
      "/usr/local/lib/python3.5/dist-packages/networkx/drawing/nx_pylab.py:126: MatplotlibDeprecationWarning: pyplot.hold is deprecated.\n",
      "    Future behavior will be consistent with the long-time default:\n",
      "    plot commands add elements without first clearing the\n",
      "    Axes and/or Figure.\n",
      "  b = plt.ishold()\n",
      "/usr/local/lib/python3.5/dist-packages/networkx/drawing/nx_pylab.py:138: MatplotlibDeprecationWarning: pyplot.hold is deprecated.\n",
      "    Future behavior will be consistent with the long-time default:\n",
      "    plot commands add elements without first clearing the\n",
      "    Axes and/or Figure.\n",
      "  plt.hold(b)\n",
      "/home/user/.local/lib/python3.5/site-packages/matplotlib/__init__.py:917: UserWarning: axes.hold is deprecated. Please remove it from your matplotlibrc and/or style files.\n",
      "  warnings.warn(self.msg_depr_set % key)\n",
      "/home/user/.local/lib/python3.5/site-packages/matplotlib/rcsetup.py:152: UserWarning: axes.hold is deprecated, will be removed in 3.0\n",
      "  warnings.warn(\"axes.hold is deprecated, will be removed in 3.0\")\n"
     ]
    },
    {
     "data": {
      "image/png": "[encoded data removed]",
      "text/plain": [
       "<matplotlib.figure.Figure at 0x7f736b715208>"
      ]
     },
     "metadata": {},
     "output_type": "display_data"
    }
   ],
   "source": [
    "nx.draw(ml_network, with_labels = True)\n",
    "plt.show()"
   ]
  },
  {
   "cell_type": "code",
   "execution_count": 11,
   "metadata": {},
   "outputs": [
    {
     "data": {
      "text/plain": [
       "{1: 0, 2: 0, 3: 0, 4: 1, 5: 1, 6: 0, 7: 0, 8: 2, 9: 2, 10: 2}"
      ]
     },
     "execution_count": 11,
     "metadata": {},
     "output_type": "execute_result"
    }
   ],
   "source": [
    "community.best_partition(ml_network)"
   ]
  },
  {
   "cell_type": "code",
   "execution_count": 45,
   "metadata": {},
   "outputs": [
    {
     "data": {
      "text/plain": [
       "1"
      ]
     },
     "execution_count": 45,
     "metadata": {},
     "output_type": "execute_result"
    }
   ],
   "source": [
    "g[1][2].get('weight', 1)"
   ]
  },
  {
   "cell_type": "code",
   "execution_count": null,
   "metadata": {
    "collapsed": true
   },
   "outputs": [],
   "source": []
  }
 ],
 "metadata": {
  "kernelspec": {
   "display_name": "Python 3",
   "language": "python",
   "name": "python3"
  },
  "language_info": {
   "codemirror_mode": {
    "name": "ipython",
    "version": 3
   },
   "file_extension": ".py",
   "mimetype": "text/x-python",
   "name": "python",
   "nbconvert_exporter": "python",
   "pygments_lexer": "ipython3",
   "version": "3.5.2"
  }
 },
 "nbformat": 4,
 "nbformat_minor": 2
}
