{
 "cells": [
  {
   "cell_type": "code",
   "execution_count": 1,
   "metadata": {},
   "outputs": [],
   "source": [
    "import sys,os\n",
    "import matplotlib.pyplot as plt\n",
    "import numpy as np\n",
    "from pprint import pprint\n",
    "import pandas as pd\n",
    "import seaborn as sns\n",
    "from IPython.display import display"
   ]
  },
  {
   "cell_type": "code",
   "execution_count": 2,
   "metadata": {},
   "outputs": [],
   "source": [
    "def extractvaluesforplot(filepath,f1,f2):\n",
    "    \n",
    "    louvain={}\n",
    "    fp = open(filepath+f1,'r')\n",
    "    fp.readline()\n",
    "    for line in fp:\n",
    "        line = line.split()\n",
    "        dt_db = line[0].split('_')\n",
    "        temp = float(dt_db[-2])\n",
    "        if temp not in louvain:\n",
    "            louvain[temp]={}\n",
    "        db = float(dt_db[-1].split(\":\")[0])\n",
    "        louvain[temp][db] = float(line[-1])\n",
    "        \n",
    "    fp.close()\n",
    "    mixmod ={}\n",
    "    fp = open(filepath+f2,'r')\n",
    "    fp.readline()\n",
    "    for line in fp:\n",
    "        line = line.split()\n",
    "        dt_db = line[0].split('_')\n",
    "        temp = float(dt_db[-2])\n",
    "        if temp not in mixmod:\n",
    "            mixmod[temp]={}\n",
    "        db = float(dt_db[-1].split(\":\")[0])\n",
    "        mixmod[temp][db] = float(line[-1])\n",
    "        \n",
    "    fp.close()\n",
    "    return louvain, mixmod "
   ]
  },
  {
   "cell_type": "code",
   "execution_count": 3,
   "metadata": {},
   "outputs": [],
   "source": [
    "def preparedata(louvain,mixmod):\n",
    "    data_louvain=[]\n",
    "    data_mixmod=[]\n",
    "    vals= [0.1,0.3,0.5,0.7,0.9,1.0,3.0,5.0,7.0,9.0,10.0]\n",
    "    for v in vals:\n",
    "        temp=[]\n",
    "        temp1=[]\n",
    "        for v1 in vals:\n",
    "            temp.append(louvain[v][v1])\n",
    "            temp1.append(mixmod[v][v1])\n",
    "        data_louvain.append(temp)\n",
    "        data_mixmod.append(temp1)\n",
    "    return data_louvain,data_mixmod\n"
   ]
  },
  {
   "cell_type": "code",
   "execution_count": 10,
   "metadata": {},
   "outputs": [],
   "source": [
    "#filepath = './syntheticNetworkGeneration/results/nets121_incWeights/alpha0.7/'\n",
    "filepath = './syntheticNetworkGeneration/results/nets121/alpha0.7/'\n",
    "f1 = 'all_louvain_for_corrImpl'\n",
    "f2 = 'mixmod_for_corrImpl'"
   ]
  },
  {
   "cell_type": "code",
   "execution_count": 71,
   "metadata": {},
   "outputs": [],
   "source": [
    "louvain, mixmod  = extractvaluesforplot(filepath+'dt_db_mod_files_corrctImp/',f1,f2)\n",
    "data_louvain,data_mixmod =preparedata(louvain,mixmod)"
   ]
  },
  {
   "cell_type": "code",
   "execution_count": 72,
   "metadata": {},
   "outputs": [
    {
     "data": {
      "image/png": "[encoded data removed]",
      "text/plain": [
       "<matplotlib.figure.Figure at 0x7f79b12978d0>"
      ]
     },
     "metadata": {},
     "output_type": "display_data"
    }
   ],
   "source": [
    "a = np.array(data_louvain)\n",
    "plt.figure(figsize=(10,10))\n",
    "plt.subplot(1,2,1)\n",
    "plt.imshow(a, cmap='hot', interpolation='nearest')\n",
    "plt.title(\"All Louvain\")\n",
    "plt.subplot(1,2,2)\n",
    "a = np.array(data_mixmod)\n",
    "plt.imshow(a, cmap='hot', interpolation='nearest')\n",
    "plt.title(\"Louvain Mixmod\")\n",
    "plt.show()"
   ]
  },
  {
   "cell_type": "code",
   "execution_count": 73,
   "metadata": {},
   "outputs": [
    {
     "data": {
      "image/png": "[encoded data removed]",
      "text/plain": [
       "<matplotlib.figure.Figure at 0x7f79b1316950>"
      ]
     },
     "metadata": {},
     "output_type": "display_data"
    }
   ],
   "source": [
    "louvain, mixmod  = extractvaluesforplot(filepath+'dt_db_mod_files_corrctImp_without_half/',f1,f2)\n",
    "data_louvain,data_mixmod =preparedata(louvain,mixmod)\n",
    "\n",
    "\n",
    "a = np.array(data_louvain)\n",
    "plt.figure(figsize=(10,10))\n",
    "plt.subplot(1,2,1)\n",
    "plt.imshow(a, cmap='hot', interpolation='nearest')\n",
    "plt.title(\"All Louvain\")\n",
    "plt.subplot(1,2,2)\n",
    "a = np.array(data_mixmod)\n",
    "plt.imshow(a, cmap='hot', interpolation='nearest')\n",
    "plt.title(\"Louvain Mixmod\")\n",
    "plt.show()"
   ]
  },
  {
   "cell_type": "code",
   "execution_count": 12,
   "metadata": {},
   "outputs": [
    {
     "data": {
      "image/png": "[encoded data removed]",
      "text/plain": [
       "<matplotlib.figure.Figure at 0x7f859f7dca90>"
      ]
     },
     "metadata": {},
     "output_type": "display_data"
    }
   ],
   "source": [
    "#Code from Luqman for learning. Visualisation master\n",
    "dm = 1.0\n",
    "def extractvaluesforplot2(filepath):\n",
    "    datalouvain = []\n",
    "    datamixmod =[]\n",
    "    fp = open(filepath+f1,'r')\n",
    "    fp.readline()\n",
    "    for line in fp:\n",
    "        line = line.split()\n",
    "        dt_db = line[0].split('_')\n",
    "        temp = float(dt_db[-2])/dm\n",
    "        db = float(dt_db[-1].split(\":\")[0])/dm\n",
    "        newrow = [temp, db, float(line[-1])]\n",
    "        datalouvain.append(newrow)\n",
    "        \n",
    "    fp.close()\n",
    "    \n",
    "    fp = open(filepath+f2,'r')\n",
    "    fp.readline()\n",
    "    for line in fp:\n",
    "        line = line.split()\n",
    "        dt_db = line[0].split('_')\n",
    "        temp = float(dt_db[-2])/dm\n",
    "        db = float(dt_db[-1].split(\":\")[0])/dm\n",
    "        newrow = [temp, db, float(line[-1])]\n",
    "        datamixmod.append(newrow)\n",
    "        \n",
    "    fp.close()\n",
    "        \n",
    "    return datalouvain,datamixmod\n",
    "\n",
    "def plot(dtlouvain,dtmixmod,saveas,titlestr):\n",
    "    df = pd.DataFrame(dtlouvain, columns = ['dt', 'db', 'modularity'])\n",
    "    dfp = df.pivot_table(index = 'dt', columns = 'db', values = 'modularity')\n",
    "    dfpr = dfp.sort_index(ascending = False)\n",
    "    plt.figure(figsize=(15,6))\n",
    "    plt.subplot(1,2,1)\n",
    "    plt.title(\"All Louvain \"+titlestr)\n",
    "    sns.heatmap(data = dfpr,cmap=\"hot\")\n",
    "\n",
    "    df = pd.DataFrame(dtmixmod, columns = ['dt', 'db', 'modularity'])\n",
    "    dfp = df.pivot_table(index = 'dt', columns = 'db', values = 'modularity')\n",
    "    dfpr = dfp.sort_index(ascending = False)\n",
    "    plt.subplot(1,2,2)\n",
    "    plt.title(\"Louvain Mixmod \"+titlestr)\n",
    "    sns.heatmap(data = dfpr, cmap=\"hot\")\n",
    "    plt.savefig(filepath+saveas)\n",
    "    plt.show()\n",
    "    \n",
    "dtlouvain,dtmixmod = extractvaluesforplot2(filepath+'dt_db_mod_files_corrctImp_without_half/')\n",
    "plot(dtlouvain,dtmixmod,\"dt_db_mod_files_corrctImp_without_half/heatmap\",\"(mod:  without half Alpha: 0.7)\")\n",
    "\n",
    "#dtlouvain,dtmixmod = extractvaluesforplot2(filepath+'dt_db_mod_files_corrctImp/')\n",
    "#plot(dtlouvain,dtmixmod,\"dt_db_mod_files_corrctImp/heatmap\",\"(mod: corrctImp Alpha: 0.7)\")\n"
   ]
  },
  {
   "cell_type": "code",
   "execution_count": null,
   "metadata": {},
   "outputs": [],
   "source": []
  },
  {
   "cell_type": "code",
   "execution_count": null,
   "metadata": {},
   "outputs": [],
   "source": []
  }
 ],
 "metadata": {
  "kernelspec": {
   "display_name": "Python 3",
   "language": "python",
   "name": "python3"
  },
  "language_info": {
   "codemirror_mode": {
    "name": "ipython",
    "version": 2
   },
   "file_extension": ".py",
   "mimetype": "text/x-python",
   "name": "python",
   "nbconvert_exporter": "python",
   "pygments_lexer": "ipython2",
   "version": "2.7.12"
  }
 },
 "nbformat": 4,
 "nbformat_minor": 2
}
