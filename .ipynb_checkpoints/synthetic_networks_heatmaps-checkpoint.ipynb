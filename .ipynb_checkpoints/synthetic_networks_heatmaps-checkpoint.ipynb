{
 "cells": [
  {
   "cell_type": "code",
   "execution_count": 4,
   "metadata": {},
   "outputs": [],
   "source": [
    "import sys,os\n",
    "import matplotlib.pyplot as plt\n",
    "import numpy as np\n",
    "from pprint import pprint\n",
    "import pandas as pd\n",
    "import seaborn as sns\n",
    "from IPython.display import display"
   ]
  },
  {
   "cell_type": "code",
   "execution_count": 2,
   "metadata": {},
   "outputs": [],
   "source": [
    "def extractvaluesforplot(filepath,f1,f2):\n",
    "    \n",
    "    louvain={}\n",
    "    fp = open(filepath+f1,'r')\n",
    "    fp.readline()\n",
    "    for line in fp:\n",
    "        line = line.split()\n",
    "        dt_db = line[0].split('_')\n",
    "        temp = float(dt_db[-2])\n",
    "        if temp not in louvain:\n",
    "            louvain[temp]={}\n",
    "        db = float(dt_db[-1].split(\":\")[0])\n",
    "        louvain[temp][db] = float(line[-1])\n",
    "        \n",
    "    fp.close()\n",
    "    mixmod ={}\n",
    "    fp = open(filepath+f2,'r')\n",
    "    fp.readline()\n",
    "    for line in fp:\n",
    "        line = line.split()\n",
    "        dt_db = line[0].split('_')\n",
    "        temp = float(dt_db[-2])\n",
    "        if temp not in mixmod:\n",
    "            mixmod[temp]={}\n",
    "        db = float(dt_db[-1].split(\":\")[0])\n",
    "        mixmod[temp][db] = float(line[-1])\n",
    "        \n",
    "    fp.close()\n",
    "    return louvain, mixmod "
   ]
  },
  {
   "cell_type": "code",
   "execution_count": 3,
   "metadata": {},
   "outputs": [],
   "source": [
    "def preparedata(louvain,mixmod):\n",
    "    data_louvain=[]\n",
    "    data_mixmod=[]\n",
    "    vals= [0.1,0.3,0.5,0.7,0.9,1.0,3.0,5.0,7.0,9.0,10.0]\n",
    "    for v in vals:\n",
    "        temp=[]\n",
    "        temp1=[]\n",
    "        for v1 in vals:\n",
    "            temp.append(louvain[v][v1])\n",
    "            temp1.append(mixmod[v][v1])\n",
    "        data_louvain.append(temp)\n",
    "        data_mixmod.append(temp1)\n",
    "    return data_louvain,data_mixmod\n"
   ]
  },
  {
   "cell_type": "code",
   "execution_count": 5,
   "metadata": {},
   "outputs": [],
   "source": [
    "#filepath = './syntheticNetworkGeneration/results/nets121_incWeights/alpha0.7/'\n",
    "#filepath = './syntheticNetworkGeneration/results/nets121/alpha0.7/'\n",
    "#filepath = './syntheticNetworkGeneration/results/params/'\n",
    "f1 = 'all_louvain_for_corrImpl'\n",
    "f2 = 'mixmod_for_corrImpl'"
   ]
  },
  {
   "cell_type": "code",
   "execution_count": 71,
   "metadata": {},
   "outputs": [],
   "source": [
    "louvain, mixmod  = extractvaluesforplot(filepath+'dt_db_mod_files_corrctImp/',f1,f2)\n",
    "data_louvain,data_mixmod =preparedata(louvain,mixmod)"
   ]
  },
  {
   "cell_type": "code",
   "execution_count": 72,
   "metadata": {},
   "outputs": [
    {
     "data": {
      "image/png": "[encoded data removed]",
      "text/plain": [
       "<matplotlib.figure.Figure at 0x7f79b12978d0>"
      ]
     },
     "metadata": {},
     "output_type": "display_data"
    }
   ],
   "source": [
    "a = np.array(data_louvain)\n",
    "plt.figure(figsize=(10,10))\n",
    "plt.subplot(1,2,1)\n",
    "plt.imshow(a, cmap='hot', interpolation='nearest')\n",
    "plt.title(\"All Louvain\")\n",
    "plt.subplot(1,2,2)\n",
    "a = np.array(data_mixmod)\n",
    "plt.imshow(a, cmap='hot', interpolation='nearest')\n",
    "plt.title(\"Louvain Mixmod\")\n",
    "plt.show()"
   ]
  },
  {
   "cell_type": "code",
   "execution_count": 73,
   "metadata": {},
   "outputs": [
    {
     "data": {
      "image/png": "[encoded data removed]",
      "text/plain": [
       "<matplotlib.figure.Figure at 0x7f79b1316950>"
      ]
     },
     "metadata": {},
     "output_type": "display_data"
    }
   ],
   "source": [
    "louvain, mixmod  = extractvaluesforplot(filepath+'dt_db_mod_files_corrctImp_without_half/',f1,f2)\n",
    "data_louvain,data_mixmod =preparedata(louvain,mixmod)\n",
    "\n",
    "\n",
    "a = np.array(data_louvain)\n",
    "plt.figure(figsize=(10,10))\n",
    "plt.subplot(1,2,1)\n",
    "plt.imshow(a, cmap='hot', interpolation='nearest')\n",
    "plt.title(\"All Louvain\")\n",
    "plt.subplot(1,2,2)\n",
    "a = np.array(data_mixmod)\n",
    "plt.imshow(a, cmap='hot', interpolation='nearest')\n",
    "plt.title(\"Louvain Mixmod\")\n",
    "plt.show()"
   ]
  },
  {
   "cell_type": "code",
   "execution_count": 3,
   "metadata": {},
   "outputs": [],
   "source": [
    "#Code from Luqman for learning. Visualisation master\n",
    "#dm = 1\n",
    "def extractvaluesforplot2(filepath):\n",
    "    datalouvain = []\n",
    "    datamixmod =[]\n",
    "    nmilouvain=[]\n",
    "    nmimixmod =[]\n",
    "    groungtruth=[]\n",
    "    fp = open(filepath+f1,'r')\n",
    "    fp.readline()\n",
    "    for line in fp:\n",
    "        line = line.split()\n",
    "        dt_db = line[0].split('_')\n",
    "        dm = float(dt_db[-3])\n",
    "        dt = float(dt_db[-2])/dm\n",
    "        db = float(dt_db[-1].split(\":\")[0])/dm\n",
    "        newrow = [dt, db, float(line[-2])]\n",
    "        datalouvain.append(newrow)\n",
    "        newrow = [dt, db, float(line[-1])]\n",
    "        nmilouvain.append(newrow)\n",
    "        newrow =  [dt, db, float(line[-3])]\n",
    "        groungtruth.append(newrow)\n",
    "        \n",
    "        \n",
    "    fp.close()\n",
    "    \n",
    "    fp = open(filepath+f2,'r')\n",
    "    fp.readline()\n",
    "    for line in fp:\n",
    "        line = line.split()\n",
    "        dt_db = line[0].split('_')\n",
    "        dm = float(dt_db[-3])\n",
    "        dt = float(dt_db[-2])/dm\n",
    "        db = float(dt_db[-1].split(\":\")[0])/dm\n",
    "        newrow = [dt, db, float(line[-2])]\n",
    "        datamixmod.append(newrow)\n",
    "        newrow = [dt, db, float(line[-1])]\n",
    "        nmimixmod.append(newrow)\n",
    "        \n",
    "    fp.close()\n",
    "        \n",
    "    return datalouvain,datamixmod,nmilouvain,nmimixmod,groungtruth\n",
    "\n",
    "def plot(dtlouvain,dtmixmod,nmilouvain,nmimixmod,groungtruth,saveas,titlestr,filepath,minv = 0.1 ,maxv = 1.0):\n",
    "    df = pd.DataFrame(dtlouvain, columns = ['dt', 'db', 'modularity'])\n",
    "    dfp = df.pivot_table(index = 'dt', columns = 'db', values = 'modularity')\n",
    "    dfpr = dfp.sort_index(ascending = False)\n",
    "    plt.figure(figsize=(15,6))\n",
    "    plt.subplot(2,3,1)\n",
    "    plt.title(\"All Louvain Modularity\"+titlestr)\n",
    "    sns.heatmap(data = dfpr,cmap=\"hot\", vmin=minv,vmax=maxv)\n",
    "\n",
    "    df = pd.DataFrame(dtmixmod, columns = ['dt', 'db', 'modularity'])\n",
    "    dfp = df.pivot_table(index = 'dt', columns = 'db', values = 'modularity')\n",
    "    dfpr = dfp.sort_index(ascending = False)\n",
    "    plt.subplot(2,3,2)\n",
    "    plt.title(\"Louvain Mixmod Modularity\"+titlestr)\n",
    "    sns.heatmap(data = dfpr, cmap=\"hot\", vmin=minv,vmax=maxv)\n",
    "\n",
    "    df = pd.DataFrame(groungtruth, columns = ['dt', 'db', 'modularity'])\n",
    "    dfp = df.pivot_table(index = 'dt', columns = 'db', values = 'modularity')\n",
    "    dfpr = dfp.sort_index(ascending = False)\n",
    "    plt.subplot(2,3,3)\n",
    "    plt.title(\"Ground Truth Modularity \"+titlestr)\n",
    "    sns.heatmap(data = dfpr, cmap=\"hot\", vmin=minv,vmax=maxv)\n",
    "    \n",
    "    df = pd.DataFrame(nmilouvain, columns = ['dt', 'db', 'NMI'])\n",
    "    dfp = df.pivot_table(index = 'dt', columns = 'db', values = 'NMI')\n",
    "    dfpr = dfp.sort_index(ascending = False)\n",
    "    plt.subplot(2,3,4)\n",
    "    plt.title(\"All Louvain NMI \"+titlestr)\n",
    "    sns.heatmap(data = dfpr, cmap=\"hot\", vmin=minv,vmax=maxv)\n",
    "        \n",
    "    df = pd.DataFrame(nmimixmod, columns = ['dt', 'db', 'NMI'])\n",
    "    dfp = df.pivot_table(index = 'dt', columns = 'db', values = 'NMI')\n",
    "    dfpr = dfp.sort_index(ascending = False)\n",
    "    plt.subplot(2,3,5)\n",
    "    plt.title(\"Louvain Mixmod NMI \"+titlestr)\n",
    "    sns.heatmap(data = dfpr, cmap=\"hot\", vmin=minv,vmax=maxv)\n",
    "    \n",
    "    plt.tight_layout()\n",
    "    plt.savefig(filepath+saveas)\n",
    "    #plt.show()\n",
    "    \n",
    "#dtlouvain,dtmixmod = extractvaluesforplot2(filepath+'dt_db_mod_files_corrctImp_without_half/')\n",
    "#plot(dtlouvain,dtmixmod,\"dt_db_mod_files_corrctImp_without_half/heatmap\",\"(mod:  without half Alpha: 0.7)\")\n",
    "\n",
    "#dtlouvain,dtmixmod = extractvaluesforplot2(filepath+'dt_db_mod_files_corrctImp/')\n",
    "#plot(dtlouvain,dtmixmod,\"dt_db_mod_files_corrctImp/heatmap\",\"(mod: corrctImp Alpha: 0.7)\")\n",
    "\n"
   ]
  },
  {
   "cell_type": "code",
   "execution_count": 6,
   "metadata": {},
   "outputs": [],
   "source": [
    "def plotall(weighted):\n",
    "    alphalist = [0.3,0.5,0.8]\n",
    "    plist =[0.3,0.5,0.8]\n",
    "    p1list =[0.3,0.5,0.8]\n",
    "    #alphalist = [0.8]\n",
    "    #plist =[0.8]\n",
    "    #p1list =[0.8]\n",
    "    if(weighted == 0):\n",
    "        pathtosave = \"./syntheticNetworkGeneration/results/params/nonweighted/\"\n",
    "    else:\n",
    "        pathtosave = \"./syntheticNetworkGeneration/results/params/weighted/\"\n",
    "        #pathtosave = \"./syntheticNetworkGeneration/results/params/weighted_dm1/\"\n",
    "    for alpha in alphalist:\n",
    "        directory1 = pathtosave+ \"aplha\" + str(alpha) \n",
    "        for p in plist:\n",
    "            directory2 = directory1 + \"/P\" + str(p)\n",
    "            for p1 in p1list:\n",
    "                filepath = directory2 + \"/P1_\" + str(p1) +\"/\"\n",
    "                titlestr = \"(W: \"+str(weighted)+\" Alpha: \"+ str(alpha) +\", P: \"+str(p)+\", P1: \"+str(p1) +\")\"\n",
    "                datalouvain,datamixmod,nmilouvain,nmimixmod,groungtruth = extractvaluesforplot2(filepath) \n",
    "                plot(datalouvain,datamixmod,nmilouvain,nmimixmod,groungtruth,\"heatmap\",titlestr,filepath)\n",
    "#plotall(0)\n",
    "plotall(1)"
   ]
  },
  {
   "cell_type": "code",
   "execution_count": null,
   "metadata": {},
   "outputs": [],
   "source": []
  }
 ],
 "metadata": {
  "kernelspec": {
   "display_name": "Python 3",
   "language": "python",
   "name": "python3"
  },
  "language_info": {
   "codemirror_mode": {
    "name": "ipython",
    "version": 2
   },
   "file_extension": ".py",
   "mimetype": "text/x-python",
   "name": "python",
   "nbconvert_exporter": "python",
   "pygments_lexer": "ipython2",
   "version": "2.7.12"
  }
 },
 "nbformat": 4,
 "nbformat_minor": 2
}
