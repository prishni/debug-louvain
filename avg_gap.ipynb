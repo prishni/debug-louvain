{
 "cells": [
  {
   "cell_type": "code",
   "execution_count": 19,
   "metadata": {},
   "outputs": [
    {
     "name": "stdout",
     "output_type": "stream",
     "text": [
      "/home/user/Downloads/sem2/mtp_prish/Louvain_mixmod\n"
     ]
    }
   ],
   "source": [
    "import os\n",
    "import sys\n",
    "import matplotlib.pyplot as plt\n",
    "import numpy as np\n",
    "print(os.getcwd())"
   ]
  },
  {
   "cell_type": "code",
   "execution_count": 20,
   "metadata": {},
   "outputs": [],
   "source": [
    "p = []\n",
    "alpha = []\n",
    "labels = []\n",
    "def getpval(line):\n",
    "    filename = line[0]\n",
    "    values = filename.split('_')\n",
    "    return values[2]\n",
    "\n",
    "def getlabel(line):\n",
    "    filename = line[0]\n",
    "    values = filename.split('_')\n",
    "    return str(values[1])+'_'+str(values[2])\n"
   ]
  },
  {
   "cell_type": "code",
   "execution_count": 21,
   "metadata": {},
   "outputs": [],
   "source": [
    "def get_percentage_inc(oldval,newval):\n",
    "    return (oldval-newval)*100/oldval"
   ]
  },
  {
   "cell_type": "code",
   "execution_count": 22,
   "metadata": {},
   "outputs": [],
   "source": [
    "def report_avg_gap(filename):\n",
    "    resultsmixmod = open(filename)\n",
    "    diff_sum=0.0\n",
    "    norm = 0\n",
    "    \n",
    "    gt_mod = []\n",
    "    dt_mod = []\n",
    "    resultsmixmod.readline()\n",
    "    for line in resultsmixmod:\n",
    "        line = line.split()\n",
    "        gt_mod.append(float(line[1]))\n",
    "        dt_mod.append(float(line[2]))\n",
    "    gt_mod = np.array(gt_mod)\n",
    "    dt_mod = np.array(dt_mod)\n",
    "    gt_mean = np.mean(gt_mod)\n",
    "    dt_mean = np.mean(dt_mod)\n",
    "    gt_sd = np.std(gt_mod)\n",
    "    dt_sd = np.std(dt_mod)\n",
    "    \n",
    "    for i in range(0, len(gt_mod)):\n",
    "        gt_mod[i] = (gt_mod[i]*1.0-gt_mean)*1.0/gt_sd\n",
    "        dt_mod[i] = (dt_mod[i]*1.0-dt_mean)*1.0/dt_sd\n",
    "\n",
    "    for i in range(0, len(gt_mod)):\n",
    "        cur_diff = gt_mod[i] - dt_mod[i]\n",
    "        if cur_diff >0:\n",
    "            diff_sum = diff_sum + cur_diff\n",
    "            \n",
    "    return (diff_sum*1.0)/len(gt_mod)\n",
    "    "
   ]
  },
  {
   "cell_type": "code",
   "execution_count": 23,
   "metadata": {},
   "outputs": [
    {
     "name": "stdout",
     "output_type": "stream",
     "text": [
      "('Average gap with dualmod: ', 0.16756561319182714)\n"
     ]
    }
   ],
   "source": [
    "#avg gap with louvain dual mod and previous implementation of modularity (newmodularity)\n",
    "resultsfiledir = './resultsDualModLouvain/'\n",
    "resultsfilename = 'modComparisionDualModLouvain'\n",
    "avg_gap_dualmod1 = report_avg_gap(resultsfiledir+resultsfilename)\n",
    "print(\"Average gap with dualmod: \",avg_gap_dualmod1)"
   ]
  },
  {
   "cell_type": "code",
   "execution_count": 24,
   "metadata": {},
   "outputs": [
    {
     "name": "stdout",
     "output_type": "stream",
     "text": [
      "('Average gap with dualmod: ', 0.12587475721601996)\n"
     ]
    }
   ],
   "source": [
    "#avg gap with louvain dual mod and corrected_implementation of modularity \n",
    "resultsfiledir = './resultsDualModLouvain/'\n",
    "resultsfilename = 'modComparisionDualModLouvain_correctmodimplementation'\n",
    "avg_gap_dualmod2 = report_avg_gap(resultsfiledir+resultsfilename)\n",
    "print(\"Average gap with dualmod: \",avg_gap_dualmod2)"
   ]
  },
  {
   "cell_type": "code",
   "execution_count": 25,
   "metadata": {},
   "outputs": [
    {
     "name": "stdout",
     "output_type": "stream",
     "text": [
      "('Average gap: ', 0.34129679063961671)\n"
     ]
    }
   ],
   "source": [
    "#avg gap with louvain mix mod and previous unweighted implementation of modularity \n",
    "resultsfiledir = './resultsmixmod/modularity_comparisions/'\n",
    "resultsfilename = 'modComparisionMixModLouvain'\n",
    "avg_gap1 = report_avg_gap(resultsfiledir+resultsfilename)\n",
    "print(\"Average gap: \",avg_gap1)"
   ]
  },
  {
   "cell_type": "code",
   "execution_count": 26,
   "metadata": {},
   "outputs": [
    {
     "name": "stdout",
     "output_type": "stream",
     "text": [
      "('Average gap: ', 0.23995380653531712)\n",
      "('Percentage improvement: ', 29.693506321689977, '%')\n"
     ]
    }
   ],
   "source": [
    "#avg gap with louvain mix mod and previous weighted but wrong implementation of modularity \n",
    "resultsfiledir = './resultsmixmod/modularity_comparisions/'\n",
    "resultsfilename = 'modComparisionMixModLouvain_wt_newmod_wrong'\n",
    "avg_gap2 = report_avg_gap(resultsfiledir+resultsfilename)\n",
    "print(\"Average gap: \",avg_gap2)\n",
    "print(\"Percentage improvement: \",get_percentage_inc(avg_gap1,avg_gap2),\"%\")"
   ]
  },
  {
   "cell_type": "code",
   "execution_count": 27,
   "metadata": {},
   "outputs": [
    {
     "name": "stdout",
     "output_type": "stream",
     "text": [
      "('Average gap: ', 0.23391803184041865)\n",
      "('Percentage improvement: ', 2.5153902670054551, '%')\n"
     ]
    }
   ],
   "source": [
    "#avg gap with louvain mix mod and previous weighted newmodularity implementation of modularity \n",
    "resultsfiledir = './resultsmixmod/modularity_comparisions/'\n",
    "resultsfilename = 'modComparisionMixModLouvain_wt_newmodularity'\n",
    "avg_gap3 = report_avg_gap(resultsfiledir+resultsfilename)\n",
    "print(\"Average gap: \",avg_gap3)\n",
    "print(\"Percentage improvement: \",get_percentage_inc(avg_gap2,avg_gap3),\"%\")"
   ]
  },
  {
   "cell_type": "code",
   "execution_count": 28,
   "metadata": {},
   "outputs": [],
   "source": [
    "#avg gap with louvain mix mod and previous weighted corrected_implementation with cicjfook of modularity \n",
    "#resultsfiledir = './resultsmixmod/modularity_comparisions/morefiles_nowUseless/'\n",
    "#resultsfilename = 'modComparisionMixModLouvain_wt_correctedImplementation_cicjfook'\n",
    "#avg_gap4_1 = report_avg_gap(resultsfiledir+resultsfilename)\n",
    "#print(\"Average gap: \",avg_gap4_1)\n",
    "#print(\"Percentage improvement: \",get_percentage_inc(avg_gap3,avg_gap4_1),\"%\")"
   ]
  },
  {
   "cell_type": "code",
   "execution_count": 84,
   "metadata": {},
   "outputs": [
    {
     "name": "stdout",
     "output_type": "stream",
     "text": [
      "('Average gap: ', 0.19393154698962303)\n",
      "('Percentage improvement: ', 17.094229348712553, '%')\n"
     ]
    }
   ],
   "source": [
    "#avg gap with louvain mix mod and previous weighted corrected_implementation of modularity \n",
    "resultsfiledir = './resultsmixmod/modularity_comparisions/'\n",
    "resultsfilename = 'modComparisionMixModLouvain_wt_correctedImplementation'\n",
    "avg_gap4 = report_avg_gap(resultsfiledir+resultsfilename)\n",
    "print(\"Average gap: \",avg_gap4)\n",
    "print(\"Percentage improvement: \",get_percentage_inc(avg_gap3,avg_gap4),\"%\")"
   ]
  },
  {
   "cell_type": "code",
   "execution_count": 30,
   "metadata": {},
   "outputs": [
    {
     "name": "stdout",
     "output_type": "stream",
     "text": [
      "('Overall improvement: ', 32.565729482261382, '%')\n"
     ]
    }
   ],
   "source": [
    "#overall improvement from start of mixmod uptill now\n",
    "print(\"Overall improvement: \",get_percentage_inc(avg_gap1,avg_gap4),\"%\")"
   ]
  },
  {
   "cell_type": "code",
   "execution_count": 16,
   "metadata": {},
   "outputs": [],
   "source": [
    "#avg gap with louvain mix mod and previous weighted corrected_implementation_exp1 of modularity \n",
    "#resultsfiledir = './resultsmixmod/modularity_comparisions/morefiles_nowUseless/'\n",
    "#resultsfilename = 'modComparisionMixModLouvain_wt_correctedImplementation_exp1'\n",
    "#avg_gap5 = report_avg_gap(resultsfiledir+resultsfilename)\n",
    "#print(\"Average gap: \",avg_gap5)\n",
    "#print(\"Percentage improvement: \",get_percentage_inc(avg_gap4,avg_gap5),\"%\")"
   ]
  },
  {
   "cell_type": "code",
   "execution_count": 17,
   "metadata": {},
   "outputs": [],
   "source": [
    "#avg gap with louvain mix mod and previous weighted corrected_implementation_exp2 of modularity \n",
    "#resultsfiledir = './resultsmixmod/modularity_comparisions/morefiles_nowUseless/'\n",
    "#resultsfilename = 'modComparisionMixModLouvain_wt_correctedImplementation_exp2'\n",
    "#avg_gap6 = report_avg_gap(resultsfiledir+resultsfilename)\n",
    "#print(\"Average gap: \",avg_gap6)\n",
    "#print(\"Percentage improvement: \",get_percentage_inc(avg_gap4,avg_gap6),\"%\")"
   ]
  },
  {
   "cell_type": "code",
   "execution_count": 31,
   "metadata": {},
   "outputs": [
    {
     "name": "stdout",
     "output_type": "stream",
     "text": [
      "('Average gap: ', 0.16465826580035764)\n",
      "('Percentage improvement: ', 28.456419899947214, '%')\n"
     ]
    }
   ],
   "source": [
    "#avg gap with louvain mix mod and previous weighted corrected_implementation_exp2 of modularity \n",
    "resultsfiledir = './resultsmixmod/modularity_comparisions/'\n",
    "resultsfilename = 'modComparisionMixModLouvain_wt_correctedImplementation_exp3'\n",
    "avg_gap7 = report_avg_gap(resultsfiledir+resultsfilename)\n",
    "print(\"Average gap: \",avg_gap7)\n",
    "print(\"Percentage improvement: \",get_percentage_inc(avg_gap4,avg_gap7),\"%\")"
   ]
  },
  {
   "cell_type": "code",
   "execution_count": 32,
   "metadata": {},
   "outputs": [
    {
     "name": "stdout",
     "output_type": "stream",
     "text": [
      "('Overall improvement: ', 51.755108657255391, '%')\n"
     ]
    }
   ],
   "source": [
    "#overall improvement from start of mixmod uptill now\n",
    "print(\"Overall improvement: \",get_percentage_inc(avg_gap1,avg_gap7),\"%\")"
   ]
  },
  {
   "cell_type": "code",
   "execution_count": 33,
   "metadata": {},
   "outputs": [
    {
     "name": "stdout",
     "output_type": "stream",
     "text": [
      "('Average gap: ', 0.16465826580035764)\n",
      "('Percentage improvement: ', 28.456419899947214, '%')\n"
     ]
    }
   ],
   "source": [
    "#avg gap with louvain mix mod and previous weighted corrected_implementation_exp2 of modularity \n",
    "resultsfiledir = './resultsmixmod/modularity_comparisions/'\n",
    "resultsfilename = 'modComparisionMixModLouvain_wt_correctedImplementation_exp3_1'\n",
    "avg_gap7 = report_avg_gap(resultsfiledir+resultsfilename)\n",
    "print(\"Average gap: \",avg_gap7)\n",
    "print(\"Percentage improvement: \",get_percentage_inc(avg_gap4,avg_gap7),\"%\")"
   ]
  },
  {
   "cell_type": "code",
   "execution_count": 34,
   "metadata": {},
   "outputs": [
    {
     "name": "stdout",
     "output_type": "stream",
     "text": [
      "('Average gap: ', 0.26674799703042168)\n",
      "('Percentage improvement: ', -15.901297753332496, '%')\n"
     ]
    }
   ],
   "source": [
    "#avg gap with louvain mix mod and previous weighted corrected_implementation_exp2 of modularity \n",
    "resultsfiledir = './resultsmixmod/modularity_comparisions/'\n",
    "resultsfilename = 'modComparisionMixModLouvain_wt_correctedImplementation_aijfxd'\n",
    "avg_gap7 = report_avg_gap(resultsfiledir+resultsfilename)\n",
    "print(\"Average gap: \",avg_gap7)\n",
    "print(\"Percentage improvement: \",get_percentage_inc(avg_gap4,avg_gap7),\"%\")"
   ]
  },
  {
   "cell_type": "code",
   "execution_count": null,
   "metadata": {},
   "outputs": [],
   "source": []
  }
 ],
 "metadata": {
  "kernelspec": {
   "display_name": "Python 3",
   "language": "python",
   "name": "python3"
  },
  "language_info": {
   "codemirror_mode": {
    "name": "ipython",
    "version": 2
   },
   "file_extension": ".py",
   "mimetype": "text/x-python",
   "name": "python",
   "nbconvert_exporter": "python",
   "pygments_lexer": "ipython2",
   "version": "2.7.12"
  }
 },
 "nbformat": 4,
 "nbformat_minor": 2
}
