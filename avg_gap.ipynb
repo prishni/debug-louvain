{
 "cells": [
  {
   "cell_type": "code",
   "execution_count": 2,
   "metadata": {},
   "outputs": [
    {
     "name": "stdout",
     "output_type": "stream",
     "text": [
      "/home/user/Downloads/sem2/mtp_prish/Louvain_mixmod\n"
     ]
    }
   ],
   "source": [
    "import os\n",
    "import sys\n",
    "import matplotlib.pyplot as plt\n",
    "import numpy as np\n",
    "print(os.getcwd())"
   ]
  },
  {
   "cell_type": "code",
   "execution_count": 3,
   "metadata": {},
   "outputs": [],
   "source": [
    "p = []\n",
    "alpha = []\n",
    "labels = []\n",
    "def getpval(line):\n",
    "    filename = line[0]\n",
    "    values = filename.split('_')\n",
    "    return values[2]\n",
    "\n",
    "def getlabel(line):\n",
    "    filename = line[0]\n",
    "    values = filename.split('_')\n",
    "    return str(values[1])+'_'+str(values[2])\n"
   ]
  },
  {
   "cell_type": "code",
   "execution_count": 4,
   "metadata": {},
   "outputs": [],
   "source": [
    "def get_percentage_inc(oldval,newval):\n",
    "    return (oldval-newval)*100/oldval"
   ]
  },
  {
   "cell_type": "code",
   "execution_count": 78,
   "metadata": {},
   "outputs": [],
   "source": [
    "def report_avg_gap(filename):\n",
    "    resultsmixmod = open(filename)\n",
    "    diff_sum=0.0\n",
    "    norm = 0\n",
    "    \n",
    "    gt_mod = []\n",
    "    dt_mod = []\n",
    "    resultsmixmod.readline()\n",
    "    for line in resultsmixmod:\n",
    "        line = line.split()\n",
    "        gt_mod.append(float(line[1]))\n",
    "        dt_mod.append(float(line[2]))\n",
    "    gt_mod = np.array(gt_mod)\n",
    "    dt_mod = np.array(dt_mod)\n",
    "    gt_mean = np.mean(gt_mod)\n",
    "    dt_mean = np.mean(dt_mod)\n",
    "    gt_max = np.max(gt_mod)\n",
    "    dt_max = np.max(dt_mod)\n",
    "    \n",
    "    for i in range(0, len(gt_mod)):\n",
    "        gt_mod[i] = (gt_mod[i]*1.0)*1.0/gt_mean\n",
    "        dt_mod[i] = (dt_mod[i]*1.0)*1.0/dt_mean\n",
    "        \n",
    "    for i in range(0, len(gt_mod)):\n",
    "        cur_diff = gt_mod[i] - dt_mod[i]\n",
    "        if cur_diff >0:\n",
    "            diff_sum = diff_sum + cur_diff\n",
    "        #else:\n",
    "        #    diff_sum = diff_sum - cur_diff\n",
    "            \n",
    "    #plt.plot(gt_mod)\n",
    "    #plt.plot(dt_mod)\n",
    "    #plt.show()\n",
    "    #plt.clf()\n",
    "    return (diff_sum*1.0)/len(gt_mod)\n",
    "    "
   ]
  },
  {
   "cell_type": "code",
   "execution_count": 61,
   "metadata": {},
   "outputs": [
    {
     "name": "stdout",
     "output_type": "stream",
     "text": [
      "('Average gap with dualmod: ', 0.0097012724630585415)\n"
     ]
    }
   ],
   "source": [
    "#avg gap with louvain dual mod and previous implementation of modularity (newmodularity)\n",
    "resultsfiledir = './resultsDualModLouvain/'\n",
    "resultsfilename = 'modComparisionDualModLouvain'\n",
    "avg_gap_dualmod1 = report_avg_gap(resultsfiledir+resultsfilename)\n",
    "print(\"Average gap with dualmod: \",avg_gap_dualmod1)"
   ]
  },
  {
   "cell_type": "code",
   "execution_count": 62,
   "metadata": {},
   "outputs": [
    {
     "name": "stdout",
     "output_type": "stream",
     "text": [
      "('Average gap with dualmod: ', 0.0095505780079997906)\n"
     ]
    }
   ],
   "source": [
    "#avg gap with louvain dual mod and corrected_implementation of modularity \n",
    "resultsfiledir = './resultsDualModLouvain/'\n",
    "resultsfilename = 'modComparisionDualModLouvain_correctmodimplementation'\n",
    "avg_gap_dualmod2 = report_avg_gap(resultsfiledir+resultsfilename)\n",
    "print(\"Average gap with dualmod: \",avg_gap_dualmod2)"
   ]
  },
  {
   "cell_type": "code",
   "execution_count": 63,
   "metadata": {},
   "outputs": [
    {
     "name": "stdout",
     "output_type": "stream",
     "text": [
      "('Average gap: ', 0.039762875437452841)\n"
     ]
    }
   ],
   "source": [
    "#avg gap with louvain mix mod and previous unweighted implementation of modularity \n",
    "resultsfiledir = './resultsmixmod/modularity_comparisions/'\n",
    "resultsfilename = 'modComparisionMixModLouvain'\n",
    "avg_gap1 = report_avg_gap(resultsfiledir+resultsfilename)\n",
    "print(\"Average gap: \",avg_gap1)"
   ]
  },
  {
   "cell_type": "code",
   "execution_count": 64,
   "metadata": {},
   "outputs": [
    {
     "name": "stdout",
     "output_type": "stream",
     "text": [
      "('Average gap: ', 0.014599585194622261)\n",
      "('Percentage improvement: ', 63.283376682384386, '%')\n"
     ]
    }
   ],
   "source": [
    "#avg gap with louvain mix mod and previous weighted but wrong implementation of modularity \n",
    "resultsfiledir = './resultsmixmod/modularity_comparisions/'\n",
    "resultsfilename = 'modComparisionMixModLouvain_wt_newmod_wrong'\n",
    "avg_gap2 = report_avg_gap(resultsfiledir+resultsfilename)\n",
    "print(\"Average gap: \",avg_gap2)\n",
    "print(\"Percentage improvement: \",get_percentage_inc(avg_gap1,avg_gap2),\"%\")"
   ]
  },
  {
   "cell_type": "code",
   "execution_count": 65,
   "metadata": {},
   "outputs": [
    {
     "name": "stdout",
     "output_type": "stream",
     "text": [
      "('Average gap: ', 0.014211429451998494)\n",
      "('Percentage improvement: ', 2.6586765134035732, '%')\n"
     ]
    }
   ],
   "source": [
    "#avg gap with louvain mix mod and previous weighted newmodularity implementation of modularity \n",
    "resultsfiledir = './resultsmixmod/modularity_comparisions/'\n",
    "resultsfilename = 'modComparisionMixModLouvain_wt_newmodularity'\n",
    "avg_gap3 = report_avg_gap(resultsfiledir+resultsfilename)\n",
    "print(\"Average gap: \",avg_gap3)\n",
    "print(\"Percentage improvement: \",get_percentage_inc(avg_gap2,avg_gap3),\"%\")"
   ]
  },
  {
   "cell_type": "code",
   "execution_count": 66,
   "metadata": {},
   "outputs": [],
   "source": [
    "#avg gap with louvain mix mod and previous weighted corrected_implementation with cicjfook of modularity \n",
    "#resultsfiledir = './resultsmixmod/modularity_comparisions/morefiles_nowUseless/'\n",
    "#resultsfilename = 'modComparisionMixModLouvain_wt_correctedImplementation_cicjfook'\n",
    "#avg_gap4_1 = report_avg_gap(resultsfiledir+resultsfilename)\n",
    "#print(\"Average gap: \",avg_gap4_1)\n",
    "#print(\"Percentage improvement: \",get_percentage_inc(avg_gap3,avg_gap4_1),\"%\")"
   ]
  },
  {
   "cell_type": "code",
   "execution_count": 74,
   "metadata": {},
   "outputs": [
    {
     "name": "stdout",
     "output_type": "stream",
     "text": [
      "('Average gap: ', 0.012349705446350103)\n",
      "('Percentage improvement: ', 13.100188210740361, '%')\n"
     ]
    }
   ],
   "source": [
    "#avg gap with louvain mix mod and previous weighted corrected_implementation of modularity \n",
    "resultsfiledir = './resultsmixmod/modularity_comparisions/'\n",
    "resultsfilename = 'modComparisionMixModLouvain_wt_correctedImplementation'\n",
    "avg_gap4 = report_avg_gap(resultsfiledir+resultsfilename)\n",
    "print(\"Average gap: \",avg_gap4)\n",
    "print(\"Percentage improvement: \",get_percentage_inc(avg_gap3,avg_gap4),\"%\")"
   ]
  },
  {
   "cell_type": "code",
   "execution_count": 75,
   "metadata": {},
   "outputs": [
    {
     "name": "stdout",
     "output_type": "stream",
     "text": [
      "('Overall improvement: ', 68.941618757485884, '%')\n"
     ]
    }
   ],
   "source": [
    "#overall improvement from start of mixmod uptill now\n",
    "print(\"Overall improvement: \",get_percentage_inc(avg_gap1,avg_gap4),\"%\")"
   ]
  },
  {
   "cell_type": "code",
   "execution_count": 79,
   "metadata": {},
   "outputs": [
    {
     "name": "stdout",
     "output_type": "stream",
     "text": [
      "('Average gap: ', 0.012633536532337892)\n",
      "('Percentage improvement: ', 11.102985276676089, '%')\n"
     ]
    }
   ],
   "source": [
    "#avg gap with louvain mix mod and previous weighted corrected_implementation of modularity \n",
    "resultsfiledir = './resultsmixmod/modularity_comparisions/'\n",
    "resultsfilename = 'modComparisionMixModLouvain_wt_correctedImplementation_doinganything'\n",
    "avg_gap4 = report_avg_gap(resultsfiledir+resultsfilename)\n",
    "print(\"Average gap: \",avg_gap4)\n",
    "print(\"Percentage improvement: \",get_percentage_inc(avg_gap3,avg_gap4),\"%\")"
   ]
  },
  {
   "cell_type": "code",
   "execution_count": 73,
   "metadata": {},
   "outputs": [
    {
     "name": "stdout",
     "output_type": "stream",
     "text": [
      "('Overall improvement: ', 68.227809499817255, '%')\n"
     ]
    }
   ],
   "source": [
    "#overall improvement from start of mixmod uptill now\n",
    "print(\"Overall improvement: \",get_percentage_inc(avg_gap1,avg_gap4),\"%\")"
   ]
  },
  {
   "cell_type": "code",
   "execution_count": 31,
   "metadata": {},
   "outputs": [],
   "source": [
    "#avg gap with louvain mix mod and previous weighted corrected_implementation_exp1 of modularity \n",
    "#resultsfiledir = './resultsmixmod/modularity_comparisions/morefiles_nowUseless/'\n",
    "#resultsfilename = 'modComparisionMixModLouvain_wt_correctedImplementation_exp1'\n",
    "#avg_gap5 = report_avg_gap(resultsfiledir+resultsfilename)\n",
    "#print(\"Average gap: \",avg_gap5)\n",
    "#print(\"Percentage improvement: \",get_percentage_inc(avg_gap4,avg_gap5),\"%\")"
   ]
  },
  {
   "cell_type": "code",
   "execution_count": 32,
   "metadata": {},
   "outputs": [],
   "source": [
    "#avg gap with louvain mix mod and previous weighted corrected_implementation_exp2 of modularity \n",
    "#resultsfiledir = './resultsmixmod/modularity_comparisions/morefiles_nowUseless/'\n",
    "#resultsfilename = 'modComparisionMixModLouvain_wt_correctedImplementation_exp2'\n",
    "#avg_gap6 = report_avg_gap(resultsfiledir+resultsfilename)\n",
    "#print(\"Average gap: \",avg_gap6)\n",
    "#print(\"Percentage improvement: \",get_percentage_inc(avg_gap4,avg_gap6),\"%\")"
   ]
  },
  {
   "cell_type": "code",
   "execution_count": 33,
   "metadata": {},
   "outputs": [
    {
     "name": "stdout",
     "output_type": "stream",
     "text": [
      "('Average gap: ', 0.4324752800472737)\n",
      "('Percentage improvement: ', -123.00408920597883, '%')\n"
     ]
    }
   ],
   "source": [
    "#avg gap with louvain mix mod and previous weighted corrected_implementation_exp2 of modularity \n",
    "resultsfiledir = './resultsmixmod/modularity_comparisions/'\n",
    "resultsfilename = 'modComparisionMixModLouvain_wt_correctedImplementation_exp3'\n",
    "avg_gap7 = report_avg_gap(resultsfiledir+resultsfilename)\n",
    "print(\"Average gap: \",avg_gap7)\n",
    "print(\"Percentage improvement: \",get_percentage_inc(avg_gap4,avg_gap7),\"%\")"
   ]
  },
  {
   "cell_type": "code",
   "execution_count": 34,
   "metadata": {},
   "outputs": [
    {
     "name": "stdout",
     "output_type": "stream",
     "text": [
      "('Overall improvement: ', -26.715308174091355, '%')\n"
     ]
    }
   ],
   "source": [
    "#overall improvement from start of mixmod uptill now\n",
    "print(\"Overall improvement: \",get_percentage_inc(avg_gap1,avg_gap7),\"%\")"
   ]
  },
  {
   "cell_type": "code",
   "execution_count": 35,
   "metadata": {},
   "outputs": [
    {
     "name": "stdout",
     "output_type": "stream",
     "text": [
      "('Average gap: ', 0.2877984931449048)\n",
      "('Percentage improvement: ', -48.402102500788295, '%')\n"
     ]
    }
   ],
   "source": [
    "#avg gap with louvain mix mod and previous weighted corrected_implementation_exp2 of modularity \n",
    "resultsfiledir = './resultsmixmod/modularity_comparisions/'\n",
    "resultsfilename = 'modComparisionMixModLouvain_wt_correctedImplementation_exp3_1'\n",
    "avg_gap8 = report_avg_gap(resultsfiledir+resultsfilename)\n",
    "print(\"Average gap: \",avg_gap8)\n",
    "print(\"Percentage improvement: \",get_percentage_inc(avg_gap4,avg_gap8),\"%\")"
   ]
  },
  {
   "cell_type": "code",
   "execution_count": 36,
   "metadata": {},
   "outputs": [],
   "source": [
    "#avg gap with louvain mix mod and previous weighted corrected_implementation_exp2 of modularity \n",
    "#resultsfiledir = './resultsmixmod/modularity_comparisions/'\n",
    "#resultsfilename = 'modComparisionMixModLouvain_wt_correctedImplementation_withby2'\n",
    "#avg_gap7 = report_avg_gap(resultsfiledir+resultsfilename)\n",
    "#print(\"Average gap: \",avg_gap7)\n",
    "#print(\"Percentage improvement: \",get_percentage_inc(avg_gap4,avg_gap7),\"%\")"
   ]
  },
  {
   "cell_type": "code",
   "execution_count": 21,
   "metadata": {},
   "outputs": [
    {
     "name": "stdout",
     "output_type": "stream",
     "text": [
      "('Average gap: ', 0.38891633515989033)\n",
      "('Percentage improvement: ', -0.27154972901469571, '%')\n"
     ]
    }
   ],
   "source": [
    "#avg gap with louvain mix mod and previous weighted corrected_implementation_exp2 of modularity \n",
    "resultsfiledir = './resultsmixmod/modularity_comparisions/'\n",
    "resultsfilename = 'modComparisionMixModLouvain_wt_correctedImplementation_exp5_1'\n",
    "avg_gap9 = report_avg_gap(resultsfiledir+resultsfilename)\n",
    "print(\"Average gap: \",avg_gap9)\n",
    "print(\"Percentage improvement: \",get_percentage_inc(avg_gap4,avg_gap9),\"%\")"
   ]
  },
  {
   "cell_type": "code",
   "execution_count": null,
   "metadata": {},
   "outputs": [],
   "source": []
  }
 ],
 "metadata": {
  "kernelspec": {
   "display_name": "Python 3",
   "language": "python",
   "name": "python3"
  },
  "language_info": {
   "codemirror_mode": {
    "name": "ipython",
    "version": 2
   },
   "file_extension": ".py",
   "mimetype": "text/x-python",
   "name": "python",
   "nbconvert_exporter": "python",
   "pygments_lexer": "ipython2",
   "version": "2.7.12"
  }
 },
 "nbformat": 4,
 "nbformat_minor": 2
}
