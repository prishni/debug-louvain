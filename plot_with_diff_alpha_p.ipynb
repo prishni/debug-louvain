{
 "cells": [
  {
   "cell_type": "code",
   "execution_count": 17,
   "metadata": {},
   "outputs": [
    {
     "name": "stdout",
     "output_type": "stream",
     "text": [
      "/home/user/Downloads/sem2/mtp_prish/Louvain_mixmod\n"
     ]
    }
   ],
   "source": [
    "import os\n",
    "import sys\n",
    "import matplotlib.pyplot as plt\n",
    "print(os.getcwd())"
   ]
  },
  {
   "cell_type": "code",
   "execution_count": 10,
   "metadata": {
    "collapsed": true
   },
   "outputs": [],
   "source": [
    "#code to find what are diff values of p and alpha\n",
    "resultsfiledir = './resultsDualModLouvain/'\n",
    "resultsfilename = 'modComparisionDualModLouvain'\n",
    "alpha =set()\n",
    "p=set()\n",
    "other_param='_0.05_1.0_0.0'\n",
    "resultsmixmod = open(resultsfiledir+resultsfilename)\n",
    "resultsmixmod.readline()\n",
    "for line in resultsmixmod:\n",
    "    line = line.split()[0]\n",
    "    param = line.split('_')\n",
    "    #print(param)\n",
    "    alpha.add(param[1])\n",
    "    p.add(param[2])\n",
    "resultsmixmod.close()"
   ]
  },
  {
   "cell_type": "code",
   "execution_count": 11,
   "metadata": {},
   "outputs": [
    {
     "name": "stdout",
     "output_type": "stream",
     "text": [
      "(set(['0.9', '0.8', '0.1', '0.2', '0.5', '0.4', '0.6']), set(['0.9', '0.8', '1.0', '0.1', '0.3', '0.5', '0.7', '0.75', '0.85', '0.95']))\n"
     ]
    }
   ],
   "source": [
    "print(alpha,p)"
   ]
  },
  {
   "cell_type": "code",
   "execution_count": 13,
   "metadata": {
    "collapsed": true
   },
   "outputs": [],
   "source": [
    "alpha = [0.9, 0.8, 0.1, 0.2, 0.5, 0.4, 0.6]\n",
    "pval =[0.9, 0.8, 1.0, 0.1, 0.3, 0.5, 0.7, 0.75, 0.85, 0.95]"
   ]
  },
  {
   "cell_type": "code",
   "execution_count": 28,
   "metadata": {
    "collapsed": true
   },
   "outputs": [],
   "source": [
    "\n",
    "gt_mod = []\n",
    "mixmod_mod = []\n",
    "dual_mod = []\n",
    "\n",
    "\n",
    "for a in alpha:\n",
    "    netlist=[]\n",
    "    gt_mod = []\n",
    "    dual_mod = []\n",
    "    titlestring = \"DualMod:Alpha=\"+str(a) \n",
    "    for p in pval:\n",
    "        strn='network_' + str(a) + '_' + str(p) + '_0.05_1.0_0.0:'\n",
    "        netlist.append(strn)\n",
    "    #print(netlist)\n",
    "    resultsmixmod = open(resultsfiledir+resultsfilename)\n",
    "    resultsmixmod.readline()\n",
    "    for line in resultsmixmod:\n",
    "        line = line.split()\n",
    "        #print(line[0])\n",
    "        if(line[0] in netlist):\n",
    "            #print(\"ppppppppp\")\n",
    "            gt_mod.append(float(line[1]))\n",
    "            dual_mod.append(float(line[2]))\n",
    "    resultsmixmod.close()\n",
    "    plt.figure(figsize = (10,10))\n",
    "    plt.plot(gt_mod, label = 'Ground Truth')\n",
    "    plt.plot(dual_mod, label = 'DualModLouvain')\n",
    "    plt.legend(loc = 'lower right')\n",
    "    plt.title(titlestring)\n",
    "    plt.xlabel(\"P\")\n",
    "    plt.ylabel(\"modularity\")\n",
    "    #plt.show()\n",
    "    plt.savefig(resultsfiledir+titlestring+'.png')"
   ]
  },
  {
   "cell_type": "code",
   "execution_count": null,
   "metadata": {
    "collapsed": true
   },
   "outputs": [],
   "source": []
  },
  {
   "cell_type": "code",
   "execution_count": 27,
   "metadata": {
    "collapsed": true
   },
   "outputs": [],
   "source": [
    "\n",
    "gt_mod = []\n",
    "mixmod_mod = []\n",
    "dual_mod = []\n",
    "\n",
    "\n",
    "for p in pval:\n",
    "    netlist=[]\n",
    "    gt_mod = []\n",
    "    dual_mod = []\n",
    "    titlestring = \"DualMod:p=\"+str(p) \n",
    "    for a in alpha:\n",
    "        strn='network_' + str(a) + '_' + str(p) + '_0.05_1.0_0.0:'\n",
    "        netlist.append(strn)\n",
    "    #print(netlist)\n",
    "    resultsmixmod = open(resultsfiledir+resultsfilename)\n",
    "    resultsmixmod.readline()\n",
    "    for line in resultsmixmod:\n",
    "        line = line.split()\n",
    "        #print(line[0])\n",
    "        if(line[0] in netlist):\n",
    "            #print(\"ppppppppp\")\n",
    "            gt_mod.append(float(line[1]))\n",
    "            dual_mod.append(float(line[2]))\n",
    "    resultsmixmod.close()\n",
    "    plt.figure(figsize = (10,10))\n",
    "    plt.plot(gt_mod, label = 'Ground Truth')\n",
    "    plt.plot(dual_mod, label = 'DualModLouvain')\n",
    "    plt.legend(loc = 'lower right')\n",
    "    plt.title(titlestring)\n",
    "    plt.xlabel(\"Alpha\")\n",
    "    plt.ylabel(\"modularity\")\n",
    "    #plt.show()\n",
    "    plt.savefig(resultsfiledir+titlestring+'.png')"
   ]
  },
  {
   "cell_type": "code",
   "execution_count": null,
   "metadata": {
    "collapsed": true
   },
   "outputs": [],
   "source": []
  }
 ],
 "metadata": {
  "kernelspec": {
   "display_name": "Python 2",
   "language": "python",
   "name": "python2"
  },
  "language_info": {
   "codemirror_mode": {
    "name": "ipython",
    "version": 3
   },
   "file_extension": ".py",
   "mimetype": "text/x-python",
   "name": "python",
   "nbconvert_exporter": "python",
   "pygments_lexer": "ipython3",
   "version": "3.5.2"
  }
 },
 "nbformat": 4,
 "nbformat_minor": 2
}
