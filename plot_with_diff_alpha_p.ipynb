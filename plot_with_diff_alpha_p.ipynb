{
 "cells": [
  {
   "cell_type": "code",
   "execution_count": 1,
   "metadata": {},
   "outputs": [
    {
     "name": "stdout",
     "output_type": "stream",
     "text": [
      "/home/user/Downloads/sem2/mtp_prish/Louvain_mixmod\n"
     ]
    }
   ],
   "source": [
    "import os\n",
    "import sys\n",
    "import matplotlib.pyplot as plt\n",
    "print(os.getcwd())\n",
    "import numpy as np"
   ]
  },
  {
   "cell_type": "code",
   "execution_count": 2,
   "metadata": {},
   "outputs": [
    {
     "name": "stdout",
     "output_type": "stream",
     "text": [
      "(set(['0.9', '0.8', '0.1', '0.2', '0.5', '0.4', '0.6']), set(['0.9', '0.8', '1.0', '0.1', '0.3', '0.5', '0.7', '0.75', '0.85', '0.95']))\n"
     ]
    }
   ],
   "source": [
    "#code to find what are diff values of p and alpha\n",
    "resultsfiledir = './resultsDualModLouvain/'\n",
    "resultsfilename = 'modComparisionDualModLouvain'\n",
    "alpha =set()\n",
    "p=set()\n",
    "other_param='_0.05_1.0_0.0'\n",
    "resultsmixmod = open(resultsfiledir+resultsfilename)\n",
    "resultsmixmod.readline()\n",
    "for line in resultsmixmod:\n",
    "    line = line.split()[0]\n",
    "    param = line.split('_')\n",
    "    #print(param)\n",
    "    alpha.add(param[1])\n",
    "    p.add(param[2])\n",
    "resultsmixmod.close()\n",
    "print(alpha,p)"
   ]
  },
  {
   "cell_type": "code",
   "execution_count": 3,
   "metadata": {},
   "outputs": [],
   "source": [
    "def report_avg_gap(gt_mod,dt_mod):\n",
    "    diff_sum=0.0\n",
    "    norm = 0\n",
    "\n",
    "    gt_mod = np.array(gt_mod)\n",
    "    dt_mod = np.array(dt_mod)\n",
    "    gt_mean = np.mean(gt_mod)\n",
    "    dt_mean = np.mean(dt_mod)\n",
    "    gt_max = np.max(gt_mod)\n",
    "    dt_max = np.max(dt_mod)\n",
    "    \n",
    "    #for i in range(0, len(gt_mod)):\n",
    "    #    gt_mod[i] = (gt_mod[i]*1.0)*1.0/gt_mean\n",
    "    #    dt_mod[i] = (dt_mod[i]*1.0)*1.0/dt_mean\n",
    "        \n",
    "    #for i in range(0, len(gt_mod)):\n",
    "    #    cur_diff = gt_mod[i] - dt_mod[i]\n",
    "    #    if cur_diff >0:\n",
    "    #        diff_sum = diff_sum + cur_diff\n",
    "        #else:\n",
    "        #    diff_sum = diff_sum - cur_diff\n",
    "            \n",
    "    for i in range(0,len(gt_mod)):\n",
    "        cur_diff = ((gt_mod[i]-dt_mod[i])*1.0)/(gt_mod[i]*1.0)\n",
    "        if cur_diff>0:\n",
    "            diff_sum = diff_sum+cur_diff\n",
    "           \n",
    "            \n",
    "    return (diff_sum*1.0)/len(gt_mod)\n",
    "    "
   ]
  },
  {
   "cell_type": "code",
   "execution_count": 4,
   "metadata": {},
   "outputs": [],
   "source": [
    "alpha = [ 0.1, 0.2, 0.4,0.5, 0.6, 0.8,0.9]\n",
    "pval =[ 0.1, 0.3, 0.5, 0.7, 0.75,0.8, 0.85,0.9, 0.95, 1.0]"
   ]
  },
  {
   "cell_type": "code",
   "execution_count": 5,
   "metadata": {},
   "outputs": [],
   "source": [
    "fsize = 18"
   ]
  },
  {
   "cell_type": "code",
   "execution_count": 9,
   "metadata": {},
   "outputs": [],
   "source": []
  },
  {
   "cell_type": "code",
   "execution_count": 19,
   "metadata": {},
   "outputs": [],
   "source": [
    "def alphaplots(algoname,resultsfiledir,resultsfilename,pathtosave,comparewithfile,compare,lowerlim, upperlim,label):\n",
    "    gt_mod = []\n",
    "    mixmod_mod = []\n",
    "    dual_mod = []\n",
    "    \n",
    "    for a in alpha:\n",
    "        #print(a)\n",
    "        netlist=[]\n",
    "        gt_mod = []\n",
    "        mixmod_mod = []\n",
    "        dual_mod=[]\n",
    "        titlestring = algoname+\":Alpha=\"+str(a)\n",
    "        for p in pval:\n",
    "            strn='./nets/network_' + str(a) + '_' + str(p) + '_0.05_1.0_0.0:'\n",
    "            netlist.append(strn)\n",
    "\n",
    "            resultsmixmod = open(resultsfiledir+resultsfilename)\n",
    "            resultsmixmod.readline()\n",
    "            for line in resultsmixmod:\n",
    "                line = line.split()\n",
    "\n",
    "                if(line[0] == strn):\n",
    "                    #print(\"ppppppppp\") \n",
    "                    gt_mod.append(float(line[1]))\n",
    "                    mixmod_mod.append(float(line[2]))\n",
    "                    #xval.append(p)\n",
    "                    break\n",
    "            if(compare):\n",
    "                resultsdualmod = open(comparewithfile)\n",
    "                resultsdualmod.readline()\n",
    "                for line in resultsdualmod:\n",
    "                    line = line.split()\n",
    "\n",
    "                    if(line[0] == strn):\n",
    "                        dual_mod.append(float(line[2]))\n",
    "                        #xval.append(p)\n",
    "                        break\n",
    "                resultsdualmod.close()\n",
    "\n",
    "            resultsmixmod.close()\n",
    "            \n",
    "\n",
    "\n",
    "        plt.figure(figsize = (10,10))\n",
    "        plt.plot(pval,gt_mod, label = 'Ground Truth')\n",
    "        plt.plot(pval,mixmod_mod, label = label)\n",
    "        if(compare):\n",
    "            plt.plot(pval,dual_mod,label = 'Louvain_QM')\n",
    "        plt.legend(loc = 'lower right')\n",
    "        #gap = report_avg_gap(gt_mod,mixmod_mod)\n",
    "        titlestring = titlestring\n",
    "        plt.title(titlestring,fontsize = fsize)\n",
    "        plt.ylim([lowerlim, upperlim])\n",
    "        plt.xlabel(\"P\",fontsize = fsize)\n",
    "        plt.ylabel(\"modularity\",fontsize = fsize)\n",
    "        #plt.show()\n",
    "        plt.savefig(pathtosave+titlestring+'.png')\n",
    "        plt.close();"
   ]
  },
  {
   "cell_type": "code",
   "execution_count": 20,
   "metadata": {},
   "outputs": [],
   "source": [
    "def pplots(algoname,resultsfiledir,resultsfilename,pathtosave,comparewithfile,compare,lowerlim, upperlim,label):\n",
    "    gt_mod = []\n",
    "    mixmod_mod = []\n",
    "    dual_mod = []\n",
    "\n",
    "\n",
    "    for p in pval:\n",
    "        #print(a)\n",
    "        netlist=[]\n",
    "        gt_mod = []\n",
    "        mixmod_mod = []\n",
    "        dual_mod=[]\n",
    "        titlestring = algoname+\":P=\"+str(p)\n",
    "        for a in alpha:\n",
    "            strn='./nets/network_' + str(a) + '_' + str(p) + '_0.05_1.0_0.0:'\n",
    "            netlist.append(strn)\n",
    "            #print(strn)\n",
    "            #print(netlist)\n",
    "            resultsmixmod = open(resultsfiledir+resultsfilename)\n",
    "            resultsmixmod.readline()\n",
    "            for line in resultsmixmod:\n",
    "                line = line.split()\n",
    "                #print(line[0])\n",
    "\n",
    "                if(line[0] == strn):\n",
    "                    #print(\"ppppppppp\") \n",
    "                    gt_mod.append(float(line[1]))\n",
    "                    mixmod_mod.append(float(line[2]))\n",
    "                    break\n",
    "\n",
    "            if(compare):\n",
    "                resultsdualmod = open(comparewithfile)\n",
    "                resultsdualmod.readline()\n",
    "                for line in resultsdualmod:\n",
    "                    line = line.split()\n",
    "\n",
    "                    if(line[0] == strn):\n",
    "                        dual_mod.append(float(line[2]))\n",
    "                        #xval.append(p)\n",
    "                        break\n",
    "                resultsdualmod.close()\n",
    "\n",
    "            resultsmixmod.close()\n",
    "\n",
    "        #print(len(gt_mod))\n",
    "        plt.figure(figsize = (10,10))\n",
    "        plt.plot(alpha,gt_mod, label = 'Ground Truth')\n",
    "        plt.plot(alpha,mixmod_mod, label = label)\n",
    "        if(compare):\n",
    "            plt.plot(alpha,dual_mod,label = 'Louvain_QM')\n",
    "        plt.legend(loc = 'lower right')\n",
    "        #gap = report_avg_gap(gt_mod,mixmod_mod)\n",
    "        titlestring = titlestring\n",
    "        plt.title(titlestring,fontsize = fsize)\n",
    "        plt.ylim([lowerlim, upperlim])\n",
    "        plt.xlabel(\"alpha\",fontsize = fsize)\n",
    "        plt.ylabel(\"modularity\",fontsize = fsize)\n",
    "        #plt.show()\n",
    "        plt.savefig(pathtosave+titlestring+'.png')\n",
    "        plt.close();\n"
   ]
  },
  {
   "cell_type": "code",
   "execution_count": 22,
   "metadata": {},
   "outputs": [],
   "source": [
    "#aplha and P plots for mixmod correctedImplementation_doinganything \n",
    "#comparing with dualmod\n",
    "algoname = \"MixMod\"\n",
    "resultsfiledir = './resultsmixmod/modularity_comparisions/'\n",
    "resultsfilename = 'modComparisionMixModLouvain_wt_correctedImplementation_doinganything'\n",
    "pathtosave = \"./dsaa/\"\n",
    "comparewithfile='./dsaa/modComparisionDSAA_wt_correctedImplementation'\n",
    "label = 'MixModLouvain_correctImpl'\n",
    "compare=1\n",
    "lowerlim=0.4\n",
    "upperlim=0.6\n",
    "alphaplots(algoname,resultsfiledir,resultsfilename,pathtosave,comparewithfile,compare,lowerlim, upperlim,label)\n",
    "pplots(algoname,resultsfiledir,resultsfilename,pathtosave,comparewithfile,compare,lowerlim, upperlim,label)"
   ]
  },
  {
   "cell_type": "code",
   "execution_count": null,
   "metadata": {},
   "outputs": [],
   "source": [
    "#aplha and P plots for Dualmod correctedImplementation_doinganything \n",
    "algoname = \"DualMod\"\n",
    "resultsfiledir = './resultsDualModLouvain/'\n",
    "resultsfilename = 'modComparisionDualModLouvain'\n",
    "pathtosave = \"./dsaa/\"\n",
    "comparewithfile='./dsaa/modComparisionDSAA_wt_correctedImplementation'\n",
    "label = algoname\n",
    "compare=0\n",
    "lowerlim=0.4\n",
    "upperlim=0.6\n",
    "alphaplots(algoname,resultsfiledir,resultsfilename,pathtosave,comparewithfile,compare,lowerlim, upperlim,label)\n",
    "pplots(algoname,resultsfiledir,resultsfilename,pathtosave,comparewithfile,compare,lowerlim, upperlim,label)"
   ]
  },
  {
   "cell_type": "code",
   "execution_count": null,
   "metadata": {},
   "outputs": [],
   "source": [
    "#aplha and P plots for mixmod_newalgo1 correctedImplementation_doinganything \n",
    "algoname = \"MixMod_newalgo1\"\n",
    "resultsfiledir = './resultsmixmod/modularity_comparisions/'\n",
    "resultsfilename = 'modComparisionMixModLouvain_wt_correctedImplementation_newalgo1'\n",
    "pathtosave = resultsfiledir+\"alpha_p_plots_newalgo1/\"\n",
    "comparewithfile='./dsaa/modComparisionDSAA_wt_correctedImplementation'\n",
    "label = algoname\n",
    "compare=0\n",
    "lowerlim=0.4\n",
    "upperlim=0.6\n",
    "alphaplots(algoname,resultsfiledir,resultsfilename,pathtosave,comparewithfile,compare,lowerlim, upperlim,label)\n",
    "pplots(algoname,resultsfiledir,resultsfilename,pathtosave,comparewithfile,compare,lowerlim, upperlim,label)"
   ]
  },
  {
   "cell_type": "code",
   "execution_count": null,
   "metadata": {},
   "outputs": [],
   "source": [
    "#aplha and P plots for mixmod_exp5_1 correctedImplementation_doinganything \n",
    "algoname = \"MixMod_exp5_1\"\n",
    "resultsfiledir = './resultsmixmod/modularity_comparisions/'\n",
    "resultsfilename = 'modComparisionMixModLouvain_wt_correctedImplementation_exp5_1'\n",
    "pathtosave = resultsfiledir+\"alpha_p_plots_exp5_1/\"\n",
    "comparewithfile='./dsaa/modComparisionDSAA_wt_correctedImplementation'\n",
    "label = \"MixModLouvain_correctImpl\"\n",
    "compare=0\n",
    "lowerlim=0.0\n",
    "upperlim=1.0\n",
    "alphaplots(algoname,resultsfiledir,resultsfilename,pathtosave,comparewithfile,compare,lowerlim, upperlim,label)\n",
    "pplots(algoname,resultsfiledir,resultsfilename,pathtosave,comparewithfile,compare,lowerlim, upperlim,label)"
   ]
  },
  {
   "cell_type": "code",
   "execution_count": null,
   "metadata": {
    "collapsed": true
   },
   "outputs": [],
   "source": [
    "#aplha and P plots for DSAA correctedImplementation_doinganything \n",
    "algoname = \"DSAA\"\n",
    "resultsfiledir = './dsaa/'\n",
    "resultsfilename = 'modComparisionDSAA_wt_correctedImplementation'\n",
    "pathtosave = resultsfiledir\n",
    "comparewithfile='./dsaa/modComparisionDSAA_wt_correctedImplementation'\n",
    "label = \"Louvain QM\"\n",
    "compare=0\n",
    "lowerlim=0.0\n",
    "upperlim=1.0\n",
    "alphaplots(algoname,resultsfiledir,resultsfilename,pathtosave,comparewithfile,compare,lowerlim, upperlim,label)\n",
    "pplots(algoname,resultsfiledir,resultsfilename,pathtosave,comparewithfile,compare,lowerlim, upperlim,label)"
   ]
  },
  {
   "cell_type": "code",
   "execution_count": null,
   "metadata": {},
   "outputs": [],
   "source": []
  },
  {
   "cell_type": "code",
   "execution_count": null,
   "metadata": {},
   "outputs": [],
   "source": []
  }
 ],
 "metadata": {
  "kernelspec": {
   "display_name": "Python 3",
   "language": "python",
   "name": "python3"
  },
  "language_info": {
   "codemirror_mode": {
    "name": "ipython",
    "version": 2
   },
   "file_extension": ".py",
   "mimetype": "text/x-python",
   "name": "python",
   "nbconvert_exporter": "python",
   "pygments_lexer": "ipython2",
   "version": "2.7.12"
  }
 },
 "nbformat": 4,
 "nbformat_minor": 2
}
