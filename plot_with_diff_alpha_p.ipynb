{
 "cells": [
  {
   "cell_type": "code",
   "execution_count": 3,
   "metadata": {},
   "outputs": [
    {
     "name": "stdout",
     "output_type": "stream",
     "text": [
      "/home/user/Downloads/sem2/mtp_prish/Louvain_mixmod\n"
     ]
    }
   ],
   "source": [
    "import os\n",
    "import sys\n",
    "import matplotlib.pyplot as plt\n",
    "print(os.getcwd())\n",
    "import numpy as np"
   ]
  },
  {
   "cell_type": "code",
   "execution_count": 4,
   "metadata": {},
   "outputs": [
    {
     "name": "stdout",
     "output_type": "stream",
     "text": [
      "(set(['0.9', '0.8', '0.1', '0.2', '0.5', '0.4', '0.6']), set(['0.9', '0.8', '1.0', '0.1', '0.3', '0.5', '0.7', '0.75', '0.85', '0.95']))\n"
     ]
    }
   ],
   "source": [
    "#code to find what are diff values of p and alpha\n",
    "resultsfiledir = './resultsDualModLouvain/'\n",
    "resultsfilename = 'modComparisionDualModLouvain'\n",
    "alpha =set()\n",
    "p=set()\n",
    "other_param='_0.05_1.0_0.0'\n",
    "resultsmixmod = open(resultsfiledir+resultsfilename)\n",
    "resultsmixmod.readline()\n",
    "for line in resultsmixmod:\n",
    "    line = line.split()[0]\n",
    "    param = line.split('_')\n",
    "    #print(param)\n",
    "    alpha.add(param[1])\n",
    "    p.add(param[2])\n",
    "resultsmixmod.close()\n",
    "print(alpha,p)"
   ]
  },
  {
   "cell_type": "code",
   "execution_count": 16,
   "metadata": {},
   "outputs": [],
   "source": [
    "def report_avg_gap(gt_mod,dt_mod):\n",
    "    diff_sum=0.0\n",
    "    norm = 0\n",
    "\n",
    "    gt_mod = np.array(gt_mod)\n",
    "    dt_mod = np.array(dt_mod)\n",
    "    gt_mean = np.mean(gt_mod)\n",
    "    dt_mean = np.mean(dt_mod)\n",
    "    gt_max = np.max(gt_mod)\n",
    "    dt_max = np.max(dt_mod)\n",
    "    \n",
    "    for i in range(0, len(gt_mod)):\n",
    "        gt_mod[i] = (gt_mod[i]*1.0)*1.0/gt_mean\n",
    "        dt_mod[i] = (dt_mod[i]*1.0)*1.0/dt_mean\n",
    "        \n",
    "    for i in range(0, len(gt_mod)):\n",
    "        cur_diff = gt_mod[i] - dt_mod[i]\n",
    "        if cur_diff >0:\n",
    "            diff_sum = diff_sum + cur_diff\n",
    "           \n",
    "            \n",
    "    return (diff_sum*1.0)/len(gt_mod)\n",
    "    "
   ]
  },
  {
   "cell_type": "code",
   "execution_count": 7,
   "metadata": {},
   "outputs": [],
   "source": [
    "alpha = [0.9, 0.8, 0.1, 0.2, 0.5, 0.4, 0.6]\n",
    "pval =[0.9, 0.8, 1.0, 0.1, 0.3, 0.5, 0.7, 0.75, 0.85, 0.95]"
   ]
  },
  {
   "cell_type": "code",
   "execution_count": 28,
   "metadata": {
    "collapsed": true
   },
   "outputs": [],
   "source": [
    "resultsfiledir = './resultsDualModLouvain/'\n",
    "resultsfilename = 'modComparisionDualModLouvain'\n",
    "gt_mod = []\n",
    "mixmod_mod = []\n",
    "dual_mod = []\n",
    "\n",
    "\n",
    "for a in alpha:\n",
    "    netlist=[]\n",
    "    gt_mod = []\n",
    "    dual_mod = []\n",
    "    titlestring = \"DualMod:Alpha=\"+str(a) \n",
    "    for p in pval:\n",
    "        strn='network_' + str(a) + '_' + str(p) + '_0.05_1.0_0.0:'\n",
    "        netlist.append(strn)\n",
    "    #print(netlist)\n",
    "    resultsmixmod = open(resultsfiledir+resultsfilename)\n",
    "    resultsmixmod.readline()\n",
    "    for line in resultsmixmod:\n",
    "        line = line.split()\n",
    "        #print(line[0])\n",
    "        if(line[0] in netlist):\n",
    "            #print(\"ppppppppp\")\n",
    "            gt_mod.append(float(line[1]))\n",
    "            dual_mod.append(float(line[2]))\n",
    "    resultsmixmod.close()\n",
    "    plt.figure(figsize = (10,10))\n",
    "    plt.plot(gt_mod, label = 'Ground Truth')\n",
    "    plt.plot(dual_mod, label = 'DualModLouvain')\n",
    "    plt.legend(loc = 'lower right')\n",
    "    plt.title(titlestring)\n",
    "    plt.xlabel(\"P\")\n",
    "    plt.ylabel(\"modularity\")\n",
    "    #plt.show()\n",
    "    plt.savefig(resultsfiledir+titlestring+'.png')"
   ]
  },
  {
   "cell_type": "code",
   "execution_count": 27,
   "metadata": {
    "collapsed": true
   },
   "outputs": [],
   "source": [
    "resultsfiledir = './resultsDualModLouvain/'\n",
    "resultsfilename = 'modComparisionDualModLouvain'\n",
    "gt_mod = []\n",
    "mixmod_mod = []\n",
    "dual_mod = []\n",
    "\n",
    "\n",
    "for p in pval:\n",
    "    netlist=[]\n",
    "    gt_mod = []\n",
    "    dual_mod = []\n",
    "    titlestring = \"DualMod:p=\"+str(p) \n",
    "    for a in alpha:\n",
    "        strn='network_' + str(a) + '_' + str(p) + '_0.05_1.0_0.0:'\n",
    "        netlist.append(strn)\n",
    "    #print(netlist)\n",
    "    resultsmixmod = open(resultsfiledir+resultsfilename)\n",
    "    resultsmixmod.readline()\n",
    "    for line in resultsmixmod:\n",
    "        line = line.split()\n",
    "        #print(line[0])\n",
    "        if(line[0] in netlist):\n",
    "            #print(\"ppppppppp\")\n",
    "            gt_mod.append(float(line[1]))\n",
    "            dual_mod.append(float(line[2]))\n",
    "    resultsmixmod.close()\n",
    "    plt.figure(figsize = (10,10))\n",
    "    plt.plot(gt_mod, label = 'Ground Truth')\n",
    "    plt.plot(dual_mod, label = 'DualModLouvain')\n",
    "    plt.legend(loc = 'lower right')\n",
    "    plt.title(titlestring)\n",
    "    plt.xlabel(\"Alpha\")\n",
    "    plt.ylabel(\"modularity\")\n",
    "    #plt.show()\n",
    "    plt.savefig(resultsfiledir+titlestring+'.png')"
   ]
  },
  {
   "cell_type": "code",
   "execution_count": null,
   "metadata": {
    "collapsed": true
   },
   "outputs": [],
   "source": []
  },
  {
   "cell_type": "code",
   "execution_count": 26,
   "metadata": {},
   "outputs": [],
   "source": []
  },
  {
   "cell_type": "code",
   "execution_count": 19,
   "metadata": {},
   "outputs": [],
   "source": [
    "resultsfiledir = './resultsmixmod/modularity_comparisions/'\n",
    "resultsfilename = 'modComparisionMixModLouvain_wt_correctedImplementation_doinganything'\n",
    "gt_mod = []\n",
    "mixmod_mod = []\n",
    "dual_mod = []\n",
    "if not os.path.exists(resultsfiledir):\n",
    "    os.makedirs(resultsfiledir)\n",
    "for a in alpha:\n",
    "    #print(a)\n",
    "    netlist=[]\n",
    "    gt_mod = []\n",
    "    mixmod_mod = []\n",
    "    titlestring = \"MixMod:Alpha=\"+str(a)+\" avg gap = \"\n",
    "    for p in pval:\n",
    "        strn='./nets/network_' + str(a) + '_' + str(p) + '_0.05_1.0_0.0:'\n",
    "        netlist.append(strn)\n",
    "        \n",
    "    resultsmixmod = open(resultsfiledir+resultsfilename)\n",
    "    resultsmixmod.readline()\n",
    "    for line in resultsmixmod:\n",
    "        line = line.split()\n",
    "        \n",
    "        if(line[0] in netlist):\n",
    "            #print(\"ppppppppp\") \n",
    "            gt_mod.append(float(line[1]))\n",
    "            mixmod_mod.append(float(line[2]))\n",
    "    \n",
    "    resultsmixmod.close()\n",
    "    plt.figure(figsize = (10,10))\n",
    "    plt.plot(gt_mod, label = 'Ground Truth')\n",
    "    plt.plot(mixmod_mod, label = 'MixModLouvain_correctImpl')\n",
    "    plt.legend(loc = 'lower right')\n",
    "    gap = report_avg_gap(gt_mod,mixmod_mod)\n",
    "    titlestring = titlestring +str(gap)\n",
    "    plt.title(titlestring)\n",
    "    plt.ylim([0.0, 1.0])\n",
    "    plt.xlabel(\"P\")\n",
    "    plt.ylabel(\"modularity\")\n",
    "    #plt.show()\n",
    "    plt.savefig(resultsfiledir+\"alpha_p_plots/\"+titlestring+'.png')\n",
    "    plt.close();"
   ]
  },
  {
   "cell_type": "code",
   "execution_count": 20,
   "metadata": {},
   "outputs": [],
   "source": [
    "resultsfiledir = './resultsmixmod/modularity_comparisions/'\n",
    "resultsfilename = 'modComparisionMixModLouvain_wt_correctedImplementation_doinganything'\n",
    "gt_mod = []\n",
    "mixmod_mod = []\n",
    "dual_mod = []\n",
    "\n",
    "\n",
    "for p in pval:\n",
    "    #print(a)\n",
    "    netlist=[]\n",
    "    gt_mod = []\n",
    "    mixmod_mod = []\n",
    "    titlestring = \"MixMod:P=\"+str(p)+\" avg gap = \"\n",
    "    for a in alpha:\n",
    "        strn='./nets/network_' + str(a) + '_' + str(p) + '_0.05_1.0_0.0:'\n",
    "        netlist.append(strn)\n",
    "        #print(strn)\n",
    "    #print(netlist)\n",
    "    resultsmixmod = open(resultsfiledir+resultsfilename)\n",
    "    resultsmixmod.readline()\n",
    "    for line in resultsmixmod:\n",
    "        line = line.split()\n",
    "        #print(line[0])\n",
    "        \n",
    "        if(line[0] in netlist):\n",
    "            #print(\"ppppppppp\") \n",
    "            gt_mod.append(float(line[1]))\n",
    "            mixmod_mod.append(float(line[2]))\n",
    "    \n",
    "    #print(\"jhvjh\")\n",
    "    #break\n",
    "    resultsmixmod.close()\n",
    "    #print(len(gt_mod))\n",
    "    plt.figure(figsize = (10,10))\n",
    "    plt.plot(gt_mod, label = 'Ground Truth')\n",
    "    plt.plot(mixmod_mod, label = 'MixModLouvain_correctImpl')\n",
    "    plt.legend(loc = 'lower right')\n",
    "    gap = report_avg_gap(gt_mod,mixmod_mod)\n",
    "    titlestring = titlestring +str(gap)\n",
    "    plt.title(titlestring)\n",
    "    plt.ylim([0.0, 1.0])\n",
    "    plt.xlabel(\"alpha\")\n",
    "    plt.ylabel(\"modularity\")\n",
    "    #plt.show()\n",
    "    plt.savefig(resultsfiledir+\"alpha_p_plots/\"+titlestring+'.png')\n",
    "    plt.close();"
   ]
  },
  {
   "cell_type": "code",
   "execution_count": null,
   "metadata": {},
   "outputs": [],
   "source": []
  },
  {
   "cell_type": "code",
   "execution_count": null,
   "metadata": {},
   "outputs": [],
   "source": []
  },
  {
   "cell_type": "code",
   "execution_count": null,
   "metadata": {},
   "outputs": [],
   "source": []
  }
 ],
 "metadata": {
  "kernelspec": {
   "display_name": "Python 2",
   "language": "python",
   "name": "python2"
  },
  "language_info": {
   "codemirror_mode": {
    "name": "ipython",
    "version": 2
   },
   "file_extension": ".py",
   "mimetype": "text/x-python",
   "name": "python",
   "nbconvert_exporter": "python",
   "pygments_lexer": "ipython2",
   "version": "2.7.12"
  }
 },
 "nbformat": 4,
 "nbformat_minor": 2
}
